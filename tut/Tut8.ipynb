{
 "cells": [
  {
   "cell_type": "code",
   "execution_count": 1,
   "metadata": {},
   "outputs": [],
   "source": [
    "import pandas as pd\n",
    "import numpy as np\n",
    "import scipy\n",
    "import math\n",
    "import statistics as st\n",
    "from statistics import mean\n",
    "from statistics import median\n",
    "from statistics import variance\n",
    "from scipy import stats\n",
    "import scipy.stats as scst\n",
    "from scipy.stats import norm\n",
    "from scipy.stats import expon\n",
    "from scipy.stats import t\n",
    "import statsmodels.api\n",
    "\n",
    "\n",
    "import matplotlib.pyplot as plt\n",
    "import pylab "
   ]
  },
  {
   "cell_type": "code",
   "execution_count": 3,
   "metadata": {},
   "outputs": [
    {
     "name": "stdout",
     "output_type": "stream",
     "text": [
      "0    -29.67\n",
      "1    -17.00\n",
      "2    -25.05\n",
      "3     -1.14\n",
      "4    -51.91\n",
      "5    -27.09\n",
      "6     -4.00\n",
      "7      3.08\n",
      "8      6.64\n",
      "9     19.35\n",
      "10   -44.80\n",
      "11   -29.89\n",
      "12     0.70\n",
      "13   -36.56\n",
      "14    -6.16\n",
      "15    40.58\n",
      "16    18.33\n",
      "17    -3.41\n",
      "18    -2.75\n",
      "dtype: float64\n"
     ]
    }
   ],
   "source": [
    "# Q1a\n",
    "data = pd.read_csv (r\"weeklies.txt\")\n",
    "#print(data)\n",
    "diff = data.current - data.lastyear\n",
    "print(diff)"
   ]
  },
  {
   "cell_type": "code",
   "execution_count": 5,
   "metadata": {},
   "outputs": [
    {
     "name": "stdout",
     "output_type": "stream",
     "text": [
      "p-value of the test is : 0.08026526054859673\n"
     ]
    }
   ],
   "source": [
    "# Q1a\n",
    "# 1 sample t-test for variable diff\n",
    "t, p = stats.ttest_1samp(diff, popmean=0) \n",
    "#p-value is > 0.05. Hence, do not reject H0 at alpha = 0.05. \n",
    "#Conclude: there is no difference between current year and last year.\n",
    "\n",
    "print('p-value of the test is :',p)"
   ]
  },
  {
   "cell_type": "code",
   "execution_count": 6,
   "metadata": {},
   "outputs": [
    {
     "name": "stdout",
     "output_type": "stream",
     "text": [
      "[-21.41870722879728, 1.3397598603762244]\n"
     ]
    }
   ],
   "source": [
    "# Q1a\n",
    "##### Manually form a CI for the difference: D-bar +- t_(n-1)(0.025) *SE(D-bar)\n",
    "alpha = 0.05 # for 95% CI, can change alpha = 0.01 for 99%CI\n",
    "prob = 1- alpha /2\n",
    "from scipy.stats import t\n",
    "n = len(diff) # sample size\n",
    "df = len(diff) - 1\n",
    "CI = [mean(diff) - t.ppf(prob, df)*math.sqrt(variance(diff)/n), mean(diff) + t.ppf(prob, df)*math.sqrt(variance(diff)/n)]\n",
    "print(CI)\n",
    "\n",
    "#95% CI for the difference is: (-21.41871,   1.33976)."
   ]
  },
  {
   "cell_type": "code",
   "execution_count": 7,
   "metadata": {},
   "outputs": [
    {
     "data": {
      "image/png": "[encoded data removed]",
      "text/plain": [
       "<Figure size 432x288 with 1 Axes>"
      ]
     },
     "metadata": {
      "needs_background": "light"
     },
     "output_type": "display_data"
    }
   ],
   "source": [
    "# Q1b\n",
    "#### checking the assumption = histogram + normal curve; qq plot; and normality test:\n",
    "# histogram\n",
    "inter = (max(diff) - min(diff) )/(len(diff)) \n",
    "l = list(np.arange((min(diff)),(max(diff)),step = inter))\n",
    "y = scst.norm.pdf(l,loc = mean(diff),scale = np.std(diff))\n",
    "\n",
    "plt.plot(l, y)\n",
    "plt.hist(diff, bins=None, range=None, density=True, color='C5')\n",
    "plt.title('Histogram of differences') \n",
    "plt.xlabel('') \n",
    "plt.ylabel('Probability') \n",
    "plt.show()\n",
    "\n"
   ]
  },
  {
   "cell_type": "code",
   "execution_count": 8,
   "metadata": {},
   "outputs": [
    {
     "data": {
      "image/png": "[encoded data removed]",
      "text/plain": [
       "<Figure size 432x288 with 1 Axes>"
      ]
     },
     "metadata": {
      "needs_background": "light"
     },
     "output_type": "display_data"
    },
    {
     "name": "stdout",
     "output_type": "stream",
     "text": [
      "p-value of Shapiro test for differences:  0.8566572070121765\n"
     ]
    }
   ],
   "source": [
    "# Q1b\n",
    "#### checking the assumption = histogram + normal curve; qq plot; and normality test:\n",
    "#QQ plot and Normality test\n",
    "\n",
    "\n",
    "scst.probplot(diff, dist = \"norm\", plot = pylab)\n",
    "plt.title(\"QQ plot for differences\")\n",
    "plt.show()\n",
    "\n",
    "#Shapiro Wilk test of normality\n",
    "t1, p1 = scst.shapiro(diff) # t = test statistic of this test; p = p-value of this test.\n",
    "\n",
    "print('p-value of Shapiro test for differences: ', p1 )"
   ]
  },
  {
   "cell_type": "code",
   "execution_count": 9,
   "metadata": {},
   "outputs": [
    {
     "name": "stdout",
     "output_type": "stream",
     "text": [
      "[-25.629983829671175, 5.551036461250122]\n"
     ]
    }
   ],
   "source": [
    "# Q1d\n",
    "##### Manually form a CI for the difference: D-bar +- t_(n-1)(0.025) *SE(D-bar)\n",
    "alpha = 0.01 #alpha = 0.01 for 99%CI\n",
    "prob = 1- alpha /2\n",
    "from scipy.stats import t\n",
    "n = len(diff) # sample size\n",
    "df = len(diff) - 1\n",
    "CI = [mean(diff) - t.ppf(prob, df)*math.sqrt(variance(diff)/n), mean(diff) + t.ppf(prob, df)*math.sqrt(variance(diff)/n)]\n",
    "print(CI)\n",
    "\n",
    "# 99% CI for the difference is: (-25.63, 5.55)\n",
    "# this 99% CI is wider than the 95%CI. The value of the multiplier in the margin of error \n",
    "# t_{(n-1), (1-alpha/2)}  is larger when alpha is smaller. \n",
    "# That value larger will make the margin of error larger hence the CI is wider.\n"
   ]
  },
  {
   "cell_type": "code",
   "execution_count": null,
   "metadata": {},
   "outputs": [],
   "source": []
  },
  {
   "cell_type": "markdown",
   "metadata": {},
   "source": [
    "# Q2"
   ]
  },
  {
   "cell_type": "code",
   "execution_count": 10,
   "metadata": {},
   "outputs": [
    {
     "name": "stdout",
     "output_type": "stream",
     "text": [
      "    strength machine\n",
      "0       43.6       O\n",
      "1       78.4       O\n",
      "2       62.1       O\n",
      "3       65.1       O\n",
      "4       69.2       O\n",
      "..       ...     ...\n",
      "95      66.0       N\n",
      "96      82.7       N\n",
      "97      62.0       N\n",
      "98      67.0       N\n",
      "99      70.2       N\n",
      "\n",
      "[100 rows x 2 columns]\n"
     ]
    }
   ],
   "source": [
    "#Q2 \n",
    "data = pd.read_csv(r\"machine.txt\" ,sep = \" \")\n",
    "print(data)"
   ]
  },
  {
   "cell_type": "code",
   "execution_count": 11,
   "metadata": {},
   "outputs": [],
   "source": [
    "old = data.strength[data.machine == 'O' ]\n",
    "new = data.strength[data.machine == 'N' ]\n"
   ]
  },
  {
   "cell_type": "code",
   "execution_count": 12,
   "metadata": {},
   "outputs": [
    {
     "name": "stdout",
     "output_type": "stream",
     "text": [
      "BartlettResult(statistic=0.6315369490124062, pvalue=0.4267921108095075)\n",
      "LeveneResult(statistic=0.0004487887283809544, pvalue=0.9831414451925987)\n"
     ]
    }
   ],
   "source": [
    "#test if variances are equal:\n",
    "# Barlette test:\n",
    "Bar = scipy.stats.bartlett(old, new)\n",
    "print(Bar)\n",
    "# Levene test:\n",
    "Levene = scipy.stats.levene(old, new)\n",
    "print(Levene)\n",
    "# very large p-value, hence two samples are from two population with same variance."
   ]
  },
  {
   "cell_type": "code",
   "execution_count": 13,
   "metadata": {},
   "outputs": [
    {
     "name": "stdout",
     "output_type": "stream",
     "text": [
      "(-3.9304389129902852, 7.90521258209538e-05, 98.0)\n",
      "(3.9304389129902852, 7.90521258209538e-05, 98.0)\n"
     ]
    }
   ],
   "source": [
    "import statsmodels.api\n",
    "#perform 1sided test to see if New is BETTER than Old:\n",
    "test4= statsmodels.stats.weightstats.ttest_ind(old, new, alternative='smaller', usevar='pooled', value=0)\n",
    "print(test4)\n",
    "#test statistic here < 0, because of Old - New.\n",
    "#in R, test statistic >0, because of New - Old. \n",
    "# You can change the positions as below:\n",
    "test5= statsmodels.stats.weightstats.ttest_ind(new, old, alternative='larger', usevar='pooled', value=0)\n",
    "print(test5)"
   ]
  },
  {
   "cell_type": "code",
   "execution_count": 26,
   "metadata": {},
   "outputs": [
    {
     "data": {
      "image/png": "[encoded data removed]",
      "text/plain": [
       "<Figure size 432x288 with 1 Axes>"
      ]
     },
     "metadata": {
      "needs_background": "light"
     },
     "output_type": "display_data"
    },
    {
     "data": {
      "image/png": "[encoded data removed]",
      "text/plain": [
       "<Figure size 432x288 with 1 Axes>"
      ]
     },
     "metadata": {
      "needs_background": "light"
     },
     "output_type": "display_data"
    }
   ],
   "source": [
    "#Q2: Normality checkings: histogram + normal curve\n",
    "inter = (max(old) - min(old) )/(len(old)) \n",
    "l = list(np.arange((min(old)),(max(old)),step = inter))\n",
    "y = scst.norm.pdf(l,loc = mean(old),scale = np.std(old))\n",
    "\n",
    "plt.plot(l, y)\n",
    "plt.hist(old, bins=None, range=None, density=True, color='C5')\n",
    "plt.title('Histogram of OLD') \n",
    "plt.xlabel('') \n",
    "plt.ylabel('Probability') \n",
    "plt.show()\n",
    "\n",
    "inter = (max(new) - min(new) )/(len(new)) \n",
    "l = list(np.arange((min(new)),(max(new)),step = inter))\n",
    "y = scst.norm.pdf(l,loc = mean(new),scale = np.std(new))\n",
    "\n",
    "plt.plot(l, y)\n",
    "plt.hist(new, bins=None, range=None, density=True, color='C5')\n",
    "plt.title('Histogram of NEW') \n",
    "plt.xlabel('') \n",
    "plt.ylabel('Probability') \n",
    "plt.show()"
   ]
  },
  {
   "cell_type": "code",
   "execution_count": 25,
   "metadata": {},
   "outputs": [
    {
     "name": "stdout",
     "output_type": "stream",
     "text": [
      "(0.9837276339530945, 0.7158327698707581)\n",
      "(0.9641383290290833, 0.13248981535434723)\n"
     ]
    }
   ],
   "source": [
    "#Q2: Normality checkings: QQ plot\n",
    "from scipy.stats import shapiro\n",
    "Shapiro1 = scipy.stats.shapiro(old) \n",
    "print(Shapiro1)\n",
    "Shapiro2 = scipy.stats.shapiro(new) \n",
    "print(Shapiro2)\n",
    "\n",
    "# both samples are normal"
   ]
  },
  {
   "cell_type": "code",
   "execution_count": 24,
   "metadata": {},
   "outputs": [
    {
     "data": {
      "image/png": "[encoded data removed]",
      "text/plain": [
       "<Figure size 432x288 with 1 Axes>"
      ]
     },
     "metadata": {
      "needs_background": "light"
     },
     "output_type": "display_data"
    },
    {
     "data": {
      "image/png": "[encoded data removed]",
      "text/plain": [
       "<Figure size 432x288 with 1 Axes>"
      ]
     },
     "metadata": {
      "needs_background": "light"
     },
     "output_type": "display_data"
    }
   ],
   "source": [
    "#Q2: QQ plots\n",
    "scst.probplot(old, dist=\"norm\", plot=pylab)\n",
    "pylab.title('QQ Plot of Old machine') \n",
    "pylab.show()\n",
    "scst.probplot(new, dist=\"norm\", plot=pylab)\n",
    "pylab.title('QQ Plot of New machine') \n",
    "pylab.show()"
   ]
  },
  {
   "cell_type": "code",
   "execution_count": null,
   "metadata": {},
   "outputs": [],
   "source": [
    "# Q2 conclude about assumptions for a Two sampes independent t-test: all met\n",
    "# sample sizes are large (50 and 50)\n",
    "# equal variances\n",
    "# each sample is from a normal or approximately normal distribution"
   ]
  },
  {
   "cell_type": "code",
   "execution_count": null,
   "metadata": {},
   "outputs": [],
   "source": []
  },
  {
   "cell_type": "code",
   "execution_count": 14,
   "metadata": {},
   "outputs": [
    {
     "name": "stdout",
     "output_type": "stream",
     "text": [
      "     time  plant\n",
      "0    5.62      1\n",
      "1    5.29      1\n",
      "2   16.25      1\n",
      "3   10.92      1\n",
      "4   11.46      1\n",
      "5   21.62      1\n",
      "6    8.45      1\n",
      "7    8.58      1\n",
      "8    5.41      1\n",
      "9   11.42      1\n",
      "10  11.62      1\n",
      "11   7.29      1\n",
      "12   7.50      1\n",
      "13   7.96      1\n",
      "14   4.42      1\n",
      "15  10.50      1\n",
      "16   7.58      1\n",
      "17   9.29      1\n",
      "18   7.54      1\n",
      "19   8.92      1\n",
      "20   9.54      2\n",
      "21  11.46      2\n",
      "22  16.62      2\n",
      "23  12.62      2\n",
      "24  25.75      2\n",
      "25  15.41      2\n",
      "26  14.29      2\n",
      "27  13.13      2\n",
      "28  13.71      2\n",
      "29  10.04      2\n",
      "30   5.75      2\n",
      "31  12.46      2\n",
      "32   9.17      2\n",
      "33  13.21      2\n",
      "34   6.00      2\n",
      "35   2.33      2\n",
      "36  14.25      2\n",
      "37   5.37      2\n",
      "38   6.25      2\n",
      "39   9.71      2\n"
     ]
    }
   ],
   "source": [
    "#Q3  wip data\n",
    "\n",
    "data = pd.read_csv(r\"wip.txt\" ,sep = \" \")\n",
    "print(data)\n"
   ]
  },
  {
   "cell_type": "code",
   "execution_count": 15,
   "metadata": {},
   "outputs": [
    {
     "name": "stdout",
     "output_type": "stream",
     "text": [
      "MannwhitneyuResult(statistic=135.5, pvalue=0.08340060579536013)\n"
     ]
    }
   ],
   "source": [
    "plant_one = data.time[data.plant == 1 ]\n",
    "plant_two = data.time[data.plant == 2 ]\n",
    "\n",
    "test6 = scipy.stats.mannwhitneyu(plant_one, plant_two, use_continuity=True, alternative='two-sided')\n",
    "#this test is Wilcoxon Rank Sum test\n",
    "print(test6)"
   ]
  },
  {
   "cell_type": "code",
   "execution_count": null,
   "metadata": {},
   "outputs": [],
   "source": [
    "# These are 2 independent samples.\n",
    "# Hence, Wilcoxon rank sum test to determine if there is a difference between the processing times of the two plants.\n",
    "\n",
    "# Conclude: There is not very strong evidence to show that the processing times for the two plants are different\n",
    "# since the two-sided p-value is not very small (0.0834).\n"
   ]
  },
  {
   "cell_type": "code",
   "execution_count": null,
   "metadata": {},
   "outputs": [],
   "source": []
  },
  {
   "cell_type": "code",
   "execution_count": null,
   "metadata": {},
   "outputs": [],
   "source": []
  },
  {
   "cell_type": "code",
   "execution_count": null,
   "metadata": {},
   "outputs": [],
   "source": [
    "\n"
   ]
  },
  {
   "cell_type": "code",
   "execution_count": null,
   "metadata": {},
   "outputs": [],
   "source": []
  },
  {
   "cell_type": "code",
   "execution_count": null,
   "metadata": {},
   "outputs": [],
   "source": []
  },
  {
   "cell_type": "code",
   "execution_count": null,
   "metadata": {},
   "outputs": [],
   "source": []
  },
  {
   "cell_type": "code",
   "execution_count": null,
   "metadata": {},
   "outputs": [],
   "source": []
  }
 ],
 "metadata": {
  "kernelspec": {
   "display_name": "Python 3",
   "language": "python",
   "name": "python3"
  },
  "language_info": {
   "codemirror_mode": {
    "name": "ipython",
    "version": 3
   },
   "file_extension": ".py",
   "mimetype": "text/x-python",
   "name": "python",
   "nbconvert_exporter": "python",
   "pygments_lexer": "ipython3",
   "version": "3.8.8"
  }
 },
 "nbformat": 4,
 "nbformat_minor": 4
}
