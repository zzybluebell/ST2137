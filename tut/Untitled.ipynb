{
 "cells": [
  {
   "cell_type": "markdown",
   "id": "2d580a69",
   "metadata": {},
   "source": [
    "# Q1 In many manufacturing processes the term work-in-process (often abbreviated WIP) is used. \n",
    "\n",
    "In a book manufacturing plant the WIP represents the time it takes for sheets from a press to be folded, gathered, sewn, tipped on end sheets, and bound. The data set wip.txt represents samples of 20 books at each of two production plants and the processing time (defined as the time in days from when the books came from the press to when they were packed in cartoons) for these jobs. There are two variables in the this data set. They are time and plant.\n",
    "\n",
    "(a) For each of the two plants, using R to compute the following descriptive statistics: mean, median, first quartile, third quartile, minimum, maximum, the range, interquartile range, variance and standard deviation.\n",
    "\n",
    "(b) Draw a histogram and box plot for the processing time for each of the two plants using R\n",
    "\n",
    "(c) Based on (a) and (b), are there any di↵erences between the processing times of the two plants? Explain.\n",
    "\n",
    "(d) Repeat (a) and (b) using Python."
   ]
  },
  {
   "cell_type": "code",
   "execution_count": null,
   "id": "ed0515a3",
   "metadata": {},
   "outputs": [],
   "source": [
    "import pandas as pd\n",
    "import pandas as pd\n",
    "import numpy as np\n",
    "import statistics as st\n",
    "import matplotlib.pyplot as plt\n",
    "import pylab \n",
    "import math\n",
    "import scipy.stats as scst\n",
    "\n",
    "from statistics import mean\n",
    "from statistics import median\n",
    "from statistics import variance"
   ]
  },
  {
   "cell_type": "code",
   "execution_count": 10,
   "id": "6ee576d9",
   "metadata": {},
   "outputs": [
    {
     "name": "stdout",
     "output_type": "stream",
     "text": [
      "     time  plant\n",
      "0    5.62      1\n",
      "1    5.29      1\n",
      "2   16.25      1\n",
      "3   10.92      1\n",
      "4   11.46      1\n",
      "5   21.62      1\n",
      "6    8.45      1\n",
      "7    8.58      1\n",
      "8    5.41      1\n",
      "9   11.42      1\n",
      "10  11.62      1\n",
      "11   7.29      1\n",
      "12   7.50      1\n",
      "13   7.96      1\n",
      "14   4.42      1\n",
      "15  10.50      1\n",
      "16   7.58      1\n",
      "17   9.29      1\n",
      "18   7.54      1\n",
      "19   8.92      1\n",
      "20   9.54      2\n",
      "21  11.46      2\n",
      "22  16.62      2\n",
      "23  12.62      2\n",
      "24  25.75      2\n",
      "25  15.41      2\n",
      "26  14.29      2\n",
      "27  13.13      2\n",
      "28  13.71      2\n",
      "29  10.04      2\n",
      "30   5.75      2\n",
      "31  12.46      2\n",
      "32   9.17      2\n",
      "33  13.21      2\n",
      "34   6.00      2\n",
      "35   2.33      2\n",
      "36  14.25      2\n",
      "37   5.37      2\n",
      "38   6.25      2\n",
      "39   9.71      2\n"
     ]
    }
   ],
   "source": [
    "data = pd.read_csv(r\"/Users/zzy/Desktop/ST2137/Data/wip.txt\", sep = \" \")\n",
    "print(data)"
   ]
  },
  {
   "cell_type": "code",
   "execution_count": 11,
   "id": "cb7c8fb3",
   "metadata": {},
   "outputs": [
    {
     "name": "stdout",
     "output_type": "stream",
     "text": [
      "count    40.000000\n",
      "mean     10.367750\n",
      "std       4.645879\n",
      "min       2.330000\n",
      "25%       7.447500\n",
      "50%       9.625000\n",
      "75%      12.747500\n",
      "max      25.750000\n",
      "Name: time, dtype: float64\n"
     ]
    }
   ],
   "source": [
    "print(data['time'].describe())"
   ]
  },
  {
   "cell_type": "code",
   "execution_count": 12,
   "id": "77eacfa3",
   "metadata": {},
   "outputs": [
    {
     "name": "stdout",
     "output_type": "stream",
     "text": [
      "count    40.00000\n",
      "mean      1.50000\n",
      "std       0.50637\n",
      "min       1.00000\n",
      "25%       1.00000\n",
      "50%       1.50000\n",
      "75%       2.00000\n",
      "max       2.00000\n",
      "Name: plant, dtype: float64\n"
     ]
    }
   ],
   "source": [
    "print(data['plant'].describe())"
   ]
  },
  {
   "cell_type": "code",
   "execution_count": 28,
   "id": "0ebd1d72",
   "metadata": {},
   "outputs": [
    {
     "name": "stdout",
     "output_type": "stream",
     "text": [
      "count    20.000000\n",
      "mean      9.382000\n",
      "std       3.997653\n",
      "min       4.420000\n",
      "25%       7.447500\n",
      "50%       8.515000\n",
      "75%      11.045000\n",
      "max      21.620000\n",
      "Name: time, dtype: float64\n"
     ]
    }
   ],
   "source": [
    "p1 = data.time[data.plant == 1]\n",
    "p2 = data.time[data.plant == 2]\n",
    "               \n",
    "print(p1.describe())"
   ]
  },
  {
   "cell_type": "code",
   "execution_count": 29,
   "id": "4f1e5584",
   "metadata": {},
   "outputs": [
    {
     "name": "stdout",
     "output_type": "stream",
     "text": [
      "count    20.000000\n",
      "mean     11.353500\n",
      "std       5.126156\n",
      "min       2.330000\n",
      "25%       8.440000\n",
      "50%      11.960000\n",
      "75%      13.845000\n",
      "max      25.750000\n",
      "Name: time, dtype: float64\n"
     ]
    }
   ],
   "source": [
    "print(p2.describe()) #Qs 1 finished"
   ]
  },
  {
   "cell_type": "code",
   "execution_count": 41,
   "id": "d13e493b",
   "metadata": {},
   "outputs": [
    {
     "name": "stdout",
     "output_type": "stream",
     "text": [
      "1st plant: [4.42, 21.62]\n",
      "1st plant: [9.382, 8.515]\n",
      "2nd plant: [2.33, 25.75]\n",
      "2nd plant: [11.3535, 11.96]\n"
     ]
    }
   ],
   "source": [
    "print(\"1st plant: \" + str([min(p1), max(p1)]))\n",
    "print(\"1st plant: \"+ str([mean(p1), median(p1)]))\n",
    "print(\"2nd plant: \" + str([min(p2), max(p2)]))\n",
    "print(\"2nd plant: \"+ str([mean(p2), median(p2)]))"
   ]
  },
  {
   "cell_type": "code",
   "execution_count": 43,
   "id": "78a8aa25",
   "metadata": {},
   "outputs": [
    {
     "name": "stdout",
     "output_type": "stream",
     "text": [
      "3.5975\n",
      "5.405000000000001\n"
     ]
    }
   ],
   "source": [
    "print(scst.iqr(p1))\n",
    "print(scst.iqr(p2))"
   ]
  },
  {
   "cell_type": "code",
   "execution_count": 47,
   "id": "a4b91b2b",
   "metadata": {},
   "outputs": [
    {
     "name": "stdout",
     "output_type": "stream",
     "text": [
      "3.997652732344451\n",
      "5.126156121203037\n"
     ]
    }
   ],
   "source": [
    "print(p1.std())\n",
    "print(p2.std())"
   ]
  },
  {
   "cell_type": "code",
   "execution_count": 57,
   "id": "a89122ce",
   "metadata": {
    "scrolled": true
   },
   "outputs": [
    {
     "data": {
      "image/png": "[encoded data removed]",
      "text/plain": [
       "<Figure size 432x288 with 1 Axes>"
      ]
     },
     "metadata": {
      "needs_background": "light"
     },
     "output_type": "display_data"
    }
   ],
   "source": [
    "#plant 1\n",
    "inter = (max(p1) - min(p1)) / len(p1)\n",
    "l = list(np.arange(min(p1), max(p1), step = inter))\n",
    "y = scst.norm.pdf(l, loc = mean(p1), scale = np.std(p1))\n",
    "\n",
    "plt.plot(l, y)\n",
    "plt.hist(p1, bins = None, range=None, density = True, color='C2')\n",
    "plt.title('Histogram of Plant One') \n",
    "plt.xlabel('') \n",
    "plt.ylabel('Probability') \n",
    "plt.show()"
   ]
  },
  {
   "cell_type": "code",
   "execution_count": 60,
   "id": "d75a4e4f",
   "metadata": {},
   "outputs": [
    {
     "data": {
      "image/png": "[encoded data removed]",
      "text/plain": [
       "<Figure size 432x288 with 1 Axes>"
      ]
     },
     "metadata": {
      "needs_background": "light"
     },
     "output_type": "display_data"
    }
   ],
   "source": [
    "#plant 2\n",
    "inter = (max(p2) - min(p2)) / len(p2)\n",
    "m = list(np.arange(min(p2), max(p2), step = inter))\n",
    "n = scst.norm.pdf(l, loc = mean(p2), scale = np.std(p2))\n",
    "\n",
    "plt.plot(m, n)\n",
    "plt.hist(p2, bins = None, range=None, density = True, color='C2')\n",
    "plt.title('Histogram of Plant One') \n",
    "plt.xlabel('') \n",
    "plt.ylabel('Probability') \n",
    "plt.show()"
   ]
  },
  {
   "cell_type": "code",
   "execution_count": 66,
   "id": "4928cf9d",
   "metadata": {},
   "outputs": [
    {
     "data": {
      "text/plain": [
       "Text(0, 0.5, 'Probability')"
      ]
     },
     "execution_count": 66,
     "metadata": {},
     "output_type": "execute_result"
    },
    {
     "data": {
      "image/png": "[encoded data removed]",
      "text/plain": [
       "<Figure size 1008x360 with 2 Axes>"
      ]
     },
     "metadata": {
      "needs_background": "light"
     },
     "output_type": "display_data"
    }
   ],
   "source": [
    "fig = plt.figure(figsize=(14,5))\n",
    "\n",
    "ax1 = fig.add_subplot(121)\n",
    "ax2 = fig.add_subplot(122)\n",
    "\n",
    "inter = (max(p1) - min(p1)) / len(p1)\n",
    "l = list(np.arange(min(p1), max(p1), step = inter))\n",
    "y = scst.norm.pdf(l, loc = mean(p1), scale = np.std(p1))\n",
    "\n",
    "ax1.plot(l, y)\n",
    "ax1.hist(p1, bins = None, range=None, density = True, color='C2')\n",
    "plt.title('Histogram of Plant One') \n",
    "plt.xlabel('') \n",
    "plt.ylabel('Probability') \n",
    "\n",
    "inter = (max(p2) - min(p2)) / len(p2)\n",
    "m = list(np.arange(min(p2), max(p2), step = inter))\n",
    "n = scst.norm.pdf(l, loc = mean(p2), scale = np.std(p2))\n",
    "\n",
    "ax2.plot(m, n)\n",
    "ax2.hist(p2, bins = None, range=None, density = True, color='C2')\n",
    "plt.title('Histogram of Plant One') \n",
    "plt.xlabel('') \n",
    "plt.ylabel('Probability') \n",
    "\n"
   ]
  },
  {
   "cell_type": "code",
   "execution_count": 72,
   "id": "2ef86284",
   "metadata": {},
   "outputs": [
    {
     "data": {
      "text/plain": [
       "Text(0.5, 1.0, 'Boxplot')"
      ]
     },
     "execution_count": 72,
     "metadata": {},
     "output_type": "execute_result"
    },
    {
     "data": {
      "image/png": "[encoded data removed]",
      "text/plain": [
       "<Figure size 504x360 with 1 Axes>"
      ]
     },
     "metadata": {
      "needs_background": "light"
     },
     "output_type": "display_data"
    }
   ],
   "source": [
    "fig, ax = plt.subplots(figsize=(7,5))\n",
    "\n",
    "data.boxplot(column='time', by='plant', ax = ax)\n",
    "plt.title('Boxplot')"
   ]
  },
  {
   "cell_type": "markdown",
   "id": "c5e9b309",
   "metadata": {},
   "source": [
    "# Q2. The director of a training program for a large insurance company wanted to know if the two tests, Test A and Test B, are correlated. Thirty trainees sat for both tests. The test scores are recorded in the file testscores.txt. There are three variables in the this data set. They are A, B and gender.\n",
    "\n",
    "(a) Using R, draw scatter plots for the two test scores for all the trainees, with a di↵erent symbol for di↵erent gender.\n",
    "\n",
    "(b) Using R, draw separate scatter plots for the two test scores, one for the male group and one for the female group.\n",
    "\n",
    "(c) Based on the plots in (a) and (b), is there any relation between the two test scores? Explain.\n",
    "(d) Repeat (a) and (b) using Python."
   ]
  },
  {
   "cell_type": "code",
   "execution_count": 74,
   "id": "1f67cd59",
   "metadata": {},
   "outputs": [
    {
     "name": "stdout",
     "output_type": "stream",
     "text": [
      "      A   B gender\n",
      "0    94  14      M\n",
      "1    96  19      M\n",
      "2    98  17      M\n",
      "3   100  38      M\n",
      "4   102  40      M\n",
      "5   105  26      M\n",
      "6   109  41      M\n",
      "7   110  28      M\n",
      "8   111  36      M\n",
      "9   130  66      M\n",
      "10   80  38      M\n",
      "11   84  34      M\n",
      "12   90  43      M\n",
      "13   97  43      M\n",
      "14   97  61      F\n",
      "15  112  63      F\n",
      "16  115  93      F\n",
      "17  118  74      F\n",
      "18  120  76      F\n",
      "19  120  79      F\n",
      "20   92  55      F\n",
      "21   96  53      F\n",
      "22   99  55      F\n",
      "23  101  52      F\n",
      "24  102  35      F\n",
      "25  104  46      F\n",
      "26  107  57      F\n",
      "27  110  55      F\n",
      "28  111  42      F\n",
      "29  118  81      F\n"
     ]
    }
   ],
   "source": [
    "testsccore = pd.read_csv(r\"/Users/zzy/Desktop/ST2137/Data/testscores.txt\", sep =\" \")\n",
    "print(testsccore)"
   ]
  },
  {
   "cell_type": "code",
   "execution_count": 98,
   "id": "8c4087e8",
   "metadata": {},
   "outputs": [
    {
     "name": "stdout",
     "output_type": "stream",
     "text": [
      "<pandas.core.groupby.generic.DataFrameGroupBy object at 0x1285216a0>\n"
     ]
    }
   ],
   "source": [
    "grps = testsccore.groupby(\"gender\")\n",
    "for name, grp in grps:\n",
    "    plt.plot(grp['A'], grp['B'], marker =\"o\", linestyle=\"\", label =name)\n",
    "    \n",
    "plt.legend()\n",
    "plt.show"
   ]
  },
  {
   "cell_type": "code",
   "execution_count": 99,
   "id": "2ac6433a",
   "metadata": {},
   "outputs": [
    {
     "ename": "TypeError",
     "evalue": "tuple indices must be integers or slices, not str",
     "output_type": "error",
     "traceback": [
      "\u001b[0;31m---------------------------------------------------------------------------\u001b[0m",
      "\u001b[0;31mTypeError\u001b[0m                                 Traceback (most recent call last)",
      "\u001b[0;32m<ipython-input-99-ee98fe8eb708>\u001b[0m in \u001b[0;36m<module>\u001b[0;34m\u001b[0m\n\u001b[1;32m      1\u001b[0m \u001b[0mgrps\u001b[0m \u001b[0;34m=\u001b[0m \u001b[0mtestsccore\u001b[0m\u001b[0;34m.\u001b[0m\u001b[0mgroupby\u001b[0m\u001b[0;34m(\u001b[0m\u001b[0;34m\"A\"\u001b[0m\u001b[0;34m)\u001b[0m\u001b[0;34m\u001b[0m\u001b[0;34m\u001b[0m\u001b[0m\n\u001b[1;32m      2\u001b[0m \u001b[0;32mfor\u001b[0m \u001b[0mgrp\u001b[0m \u001b[0;32min\u001b[0m \u001b[0mgrps\u001b[0m\u001b[0;34m:\u001b[0m\u001b[0;34m\u001b[0m\u001b[0;34m\u001b[0m\u001b[0m\n\u001b[0;32m----> 3\u001b[0;31m     \u001b[0mplt\u001b[0m\u001b[0;34m.\u001b[0m\u001b[0mplot\u001b[0m\u001b[0;34m(\u001b[0m\u001b[0mgrp\u001b[0m\u001b[0;34m[\u001b[0m\u001b[0;34m'M'\u001b[0m\u001b[0;34m]\u001b[0m\u001b[0;34m,\u001b[0m \u001b[0mgrp\u001b[0m\u001b[0;34m[\u001b[0m\u001b[0;34m'F'\u001b[0m\u001b[0;34m]\u001b[0m\u001b[0;34m,\u001b[0m \u001b[0mmarker\u001b[0m \u001b[0;34m=\u001b[0m\u001b[0;34m\"o\"\u001b[0m\u001b[0;34m,\u001b[0m \u001b[0mlinestyle\u001b[0m\u001b[0;34m=\u001b[0m\u001b[0;34m\"\"\u001b[0m\u001b[0;34m,\u001b[0m \u001b[0mlabel\u001b[0m \u001b[0;34m=\u001b[0m\u001b[0mname\u001b[0m\u001b[0;34m)\u001b[0m\u001b[0;34m\u001b[0m\u001b[0;34m\u001b[0m\u001b[0m\n\u001b[0m",
      "\u001b[0;31mTypeError\u001b[0m: tuple indices must be integers or slices, not str"
     ]
    }
   ],
   "source": [
    "g"
   ]
  }
 ],
 "metadata": {
  "kernelspec": {
   "display_name": "Python 3",
   "language": "python",
   "name": "python3"
  },
  "language_info": {
   "codemirror_mode": {
    "name": "ipython",
    "version": 3
   },
   "file_extension": ".py",
   "mimetype": "text/x-python",
   "name": "python",
   "nbconvert_exporter": "python",
   "pygments_lexer": "ipython3",
   "version": "3.8.8"
  }
 },
 "nbformat": 4,
 "nbformat_minor": 5
}
