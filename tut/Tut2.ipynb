{
 "cells": [
  {
   "cell_type": "code",
   "execution_count": 3,
   "metadata": {},
   "outputs": [
    {
     "name": "stdout",
     "output_type": "stream",
     "text": [
      "Please input the number:4\n",
      "4! = 24\n"
     ]
    }
   ],
   "source": [
    "#Q1################   FINDING FACTORIAL OF A NUMBER\n",
    "\n",
    "number = input('Please input the number:')\n",
    "\n",
    "if number.isnumeric():\n",
    "    num = int(number)\n",
    "    if num == 0:\n",
    "        print('factorial of 0 is 1')\n",
    "    else:\n",
    "        factorial = 1\n",
    "        for i in range(1, num + 1):\n",
    "            factorial = factorial * i\n",
    "        print(number + '! =', str(factorial))\n",
    "\n",
    "else:\n",
    "    print('Not an integer number')\n"
   ]
  },
  {
   "cell_type": "code",
   "execution_count": null,
   "metadata": {},
   "outputs": [],
   "source": []
  },
  {
   "cell_type": "code",
   "execution_count": 18,
   "metadata": {},
   "outputs": [
    {
     "name": "stdout",
     "output_type": "stream",
     "text": [
      "0      M\n",
      "1      F\n",
      "2      M\n",
      "3      F\n",
      "4      F\n",
      "      ..\n",
      "283    M\n",
      "284    M\n",
      "285    M\n",
      "286    M\n",
      "287    F\n",
      "Name: gender, Length: 288, dtype: object\n",
      "      id gender  height  weight  siblings\n",
      "1    278      F     162      44         2\n",
      "3    225      F     154      40         1\n",
      "4    322      F     154      37         1\n",
      "5    139      F     167      50         1\n",
      "6    243      F     166      40         1\n",
      "..   ...    ...     ...     ...       ...\n",
      "277  275      F     168      49         2\n",
      "278  155      F     152      60         2\n",
      "280  360      F     169      56         2\n",
      "282  270      F     158      44         1\n",
      "287  232      F     161      48         1\n",
      "\n",
      "[161 rows x 5 columns]\n"
     ]
    }
   ],
   "source": [
    "# Q2 ###############################   \n",
    "# (a) #\n",
    "\n",
    "import pandas as pd\n",
    "data = pd.read_csv(r\"C:/Data/height_weight.csv\")\n",
    "#print(data)\n",
    "\n",
    "\n",
    "print(data['gender'])\n",
    "\n",
    "print(data[data.gender == 'F'] )# this is all the rows that have gender F\n"
   ]
  },
  {
   "cell_type": "code",
   "execution_count": 19,
   "metadata": {},
   "outputs": [
    {
     "name": "stdout",
     "output_type": "stream",
     "text": [
      "161\n"
     ]
    }
   ],
   "source": [
    "# (b)# \n",
    "print(len(data[data.gender == 'F']) )# count how many rows that have gender F\n"
   ]
  },
  {
   "cell_type": "code",
   "execution_count": 20,
   "metadata": {},
   "outputs": [
    {
     "name": "stdout",
     "output_type": "stream",
     "text": [
      "      id gender  height  weight  siblings\n",
      "2    160      M     185      75         1\n",
      "203  285      M     184      67         3\n",
      "208  367      M     186      65         3\n"
     ]
    }
   ],
   "source": [
    "\n",
    "# (c)# \n",
    "print(data[data.height >183] ) # all the rows that have height >183"
   ]
  },
  {
   "cell_type": "code",
   "execution_count": 21,
   "metadata": {},
   "outputs": [
    {
     "name": "stdout",
     "output_type": "stream",
     "text": [
      "      id  test\n",
      "0    330    62\n",
      "1    278    79\n",
      "2    160    62\n",
      "3    225    44\n",
      "4    322    75\n",
      "..   ...   ...\n",
      "283  310    83\n",
      "284  364    55\n",
      "285  130    59\n",
      "286  300    68\n",
      "287  232    77\n",
      "\n",
      "[288 rows x 2 columns]\n"
     ]
    }
   ],
   "source": [
    "# (d) #\n",
    "\n",
    "data_test = pd.read_csv(r\"C:/Data/test.csv\")\n",
    "print(data_test)\n"
   ]
  },
  {
   "cell_type": "code",
   "execution_count": 22,
   "metadata": {},
   "outputs": [],
   "source": [
    "# (e) #\n",
    "\n",
    "#create the variable grade:\n",
    "\n",
    "grade = range(len(data))\n",
    "grade = list(grade)\n",
    "#print(grade)\n",
    "for i in range(len(data)):\n",
    "    if data_test.test[i]>=80:\n",
    "        i = int(i)\n",
    "        grade[i] = 'A'\n",
    "    elif (data_test.test[i]>=70) & (data_test.test[i]<80):\n",
    "        i = int(i)\n",
    "        grade[i] = 'B'\n",
    "    elif (data_test.test[i]>=60) & (data_test.test[i]<70):\n",
    "        i = int(i)\n",
    "        grade[i] = 'C'\n",
    "    elif (data_test.test[i]>=50) & (data_test.test[i]<60):\n",
    "        i = int(i)\n",
    "        grade[i] = 'D'\n",
    "    else:\n",
    "        i = int(i)\n",
    "        grade[i] = 'F'\n",
    "\n"
   ]
  },
  {
   "cell_type": "code",
   "execution_count": 14,
   "metadata": {},
   "outputs": [
    {
     "name": "stdout",
     "output_type": "stream",
     "text": [
      "['C', 'B', 'C', 'F', 'B', 'C', 'B', 'F', 'B', 'A', 'C', 'A', 'A', 'A', 'B', 'A', 'B', 'D', 'A', 'D', 'C', 'A', 'A', 'A', 'A', 'D', 'C', 'B', 'B', 'F', 'C', 'D', 'A', 'B', 'C', 'C', 'C', 'F', 'A', 'B', 'B', 'B', 'A', 'D', 'C', 'B', 'C', 'A', 'F', 'C', 'A', 'F', 'A', 'B', 'B', 'B', 'A', 'A', 'F', 'B', 'B', 'C', 'C', 'A', 'A', 'C', 'A', 'C', 'B', 'D', 'C', 'C', 'D', 'F', 'B', 'B', 'D', 'D', 'F', 'C', 'C', 'A', 'A', 'B', 'A', 'C', 'C', 'B', 'D', 'C', 'C', 'B', 'D', 'D', 'C', 'A', 'B', 'F', 'C', 'B', 'C', 'B', 'B', 'D', 'F', 'F', 'D', 'C', 'F', 'C', 'B', 'B', 'A', 'A', 'D', 'B', 'C', 'A', 'F', 'A', 'D', 'A', 'D', 'A', 'D', 'B', 'D', 'A', 'A', 'D', 'A', 'F', 'C', 'C', 'D', 'C', 'C', 'A', 'F', 'F', 'A', 'B', 'F', 'B', 'A', 'C', 'B', 'C', 'B', 'F', 'C', 'A', 'F', 'B', 'C', 'B', 'A', 'F', 'D', 'B', 'D', 'A', 'D', 'A', 'A', 'C', 'D', 'F', 'C', 'A', 'D', 'C', 'D', 'B', 'A', 'A', 'F', 'C', 'A', 'A', 'A', 'A', 'C', 'F', 'A', 'B', 'C', 'B', 'C', 'D', 'F', 'D', 'B', 'A', 'F', 'A', 'B', 'B', 'C', 'D', 'C', 'F', 'B', 'D', 'B', 'B', 'B', 'F', 'A', 'A', 'B', 'C', 'C', 'C', 'A', 'C', 'F', 'B', 'B', 'B', 'B', 'B', 'A', 'A', 'D', 'B', 'A', 'D', 'B', 'A', 'B', 'B', 'C', 'F', 'D', 'C', 'C', 'F', 'F', 'A', 'A', 'B', 'B', 'C', 'F', 'A', 'F', 'C', 'C', 'B', 'F', 'C', 'F', 'F', 'B', 'B', 'A', 'A', 'C', 'B', 'A', 'D', 'B', 'A', 'A', 'D', 'B', 'C', 'A', 'C', 'D', 'C', 'F', 'B', 'D', 'C', 'A', 'B', 'B', 'D', 'A', 'B', 'B', 'A', 'D', 'D', 'C', 'B']\n"
     ]
    }
   ],
   "source": [
    "print(grade)"
   ]
  },
  {
   "cell_type": "code",
   "execution_count": 23,
   "metadata": {},
   "outputs": [
    {
     "name": "stdout",
     "output_type": "stream",
     "text": [
      "      id  test grade\n",
      "0    330    62     C\n",
      "1    278    79     B\n",
      "2    160    62     C\n",
      "3    225    44     F\n",
      "4    322    75     B\n",
      "..   ...   ...   ...\n",
      "283  310    83     A\n",
      "284  364    55     D\n",
      "285  130    59     D\n",
      "286  300    68     C\n",
      "287  232    77     B\n",
      "\n",
      "[288 rows x 3 columns]\n"
     ]
    }
   ],
   "source": [
    "# (f) #\n",
    "#create a dataframe of grade:\n",
    "grade = pd.DataFrame(grade, columns = ['grade'])\n",
    "\n",
    "#merge test and  grade:\n",
    "data_test = pd.concat([data_test, grade], axis=1)\n",
    "\n",
    "print(data_test)\n"
   ]
  },
  {
   "cell_type": "code",
   "execution_count": 24,
   "metadata": {},
   "outputs": [
    {
     "name": "stdout",
     "output_type": "stream",
     "text": [
      "      id gender  height  weight  siblings  test grade\n",
      "0    330      M     164      63         3    62     C\n",
      "1    278      F     162      44         2    79     B\n",
      "2    160      M     185      75         1    62     C\n",
      "3    225      F     154      40         1    44     F\n",
      "4    322      F     154      37         1    75     B\n",
      "..   ...    ...     ...     ...       ...   ...   ...\n",
      "283  310      M     178      74         2    83     A\n",
      "284  364      M     162      73         2    55     D\n",
      "285  130      M     171      66         0    59     D\n",
      "286  300      M     163      56         3    68     C\n",
      "287  232      F     161      48         1    77     B\n",
      "\n",
      "[288 rows x 7 columns]\n"
     ]
    }
   ],
   "source": [
    "#merge the initial data and the data of test & grade:\n",
    "\n",
    "data_new = pd.merge(data,data_test, on = 'id')\n",
    "\n",
    "print(data_new)\n"
   ]
  },
  {
   "cell_type": "code",
   "execution_count": null,
   "metadata": {},
   "outputs": [],
   "source": [
    "########  save 'data_new' to a new csv file named as 'out' in the directory \"C:/Data/\"\n",
    "#(save the data of all 7 variables)\n",
    "data_new.to_csv(\"C:/Data/height_weight_test.csv\")\n",
    "\n",
    "\n",
    "# try to read the file just saved to see if it was saved correctly:\n",
    "\n",
    "y = pd.read_csv(\"C:/Data/height_weight_test.csv\")\n",
    "print(y)"
   ]
  },
  {
   "cell_type": "code",
   "execution_count": null,
   "metadata": {},
   "outputs": [],
   "source": []
  },
  {
   "cell_type": "code",
   "execution_count": null,
   "metadata": {},
   "outputs": [],
   "source": []
  }
 ],
 "metadata": {
  "kernelspec": {
   "display_name": "Python 3",
   "language": "python",
   "name": "python3"
  },
  "language_info": {
   "codemirror_mode": {
    "name": "ipython",
    "version": 3
   },
   "file_extension": ".py",
   "mimetype": "text/x-python",
   "name": "python",
   "nbconvert_exporter": "python",
   "pygments_lexer": "ipython3",
   "version": "3.7.6"
  }
 },
 "nbformat": 4,
 "nbformat_minor": 4
}
