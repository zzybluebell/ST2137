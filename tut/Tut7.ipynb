{
 "cells": [
  {
   "cell_type": "code",
   "execution_count": 1,
   "metadata": {},
   "outputs": [],
   "source": [
    "import pandas as pd\n",
    "import numpy as np\n",
    "import scipy\n",
    "import math\n",
    "import statistics as st\n",
    "from statistics import mean\n",
    "from statistics import median\n",
    "from statistics import variance\n",
    "from scipy import stats\n",
    "import scipy.stats as scst\n",
    "from scipy.stats import norm\n",
    "from scipy.stats import expon\n",
    "from scipy.stats import t\n",
    "\n",
    "import matplotlib.pyplot as plt\n",
    "import pylab \n"
   ]
  },
  {
   "cell_type": "code",
   "execution_count": null,
   "metadata": {},
   "outputs": [],
   "source": []
  },
  {
   "cell_type": "code",
   "execution_count": 96,
   "metadata": {},
   "outputs": [
    {
     "name": "stdout",
     "output_type": "stream",
     "text": [
      "0     15.0\n",
      "1     18.0\n",
      "2     27.0\n",
      "3     20.0\n",
      "4     15.0\n",
      "      ... \n",
      "93     7.0\n",
      "94    24.0\n",
      "95     6.5\n",
      "96    22.0\n",
      "97    27.5\n",
      "Name: x, Length: 98, dtype: float64\n"
     ]
    }
   ],
   "source": [
    "#Q1\n",
    "data = pd.read_csv(r\"midterm_marks\" ,sep = \",\")\n",
    "#print(data)\n",
    "mark = data['x']\n",
    "print(mark)"
   ]
  },
  {
   "cell_type": "code",
   "execution_count": 97,
   "metadata": {},
   "outputs": [
    {
     "name": "stdout",
     "output_type": "stream",
     "text": [
      "17.5\n",
      "7.297609337366335\n"
     ]
    }
   ],
   "source": [
    "print(mean(mark))\n",
    "print(np.std(mark))\n",
    "mu0 = 20\n",
    "df = len(mark) - 1"
   ]
  },
  {
   "cell_type": "code",
   "execution_count": 99,
   "metadata": {},
   "outputs": [
    {
     "name": "stdout",
     "output_type": "stream",
     "text": [
      "0.0005330460359976668\n"
     ]
    }
   ],
   "source": [
    "test = (mean(mark - mu0))/math.sqrt(variance(mark)/len(mark))  # test statistic\n",
    "\n",
    "#p-value for 1 sided left: Ho: mu < mu0\n",
    "print(t.cdf(test,df)) # Pr( t < = test) where t ~ t_df.\n",
    "\n",
    "#print(t.ppf(0.975, df) ) # quantile value of t distribution such that the left area is 0.975"
   ]
  },
  {
   "cell_type": "code",
   "execution_count": 100,
   "metadata": {},
   "outputs": [
    {
     "data": {
      "text/plain": [
       "[16.029399576560703, 18.970600423439297]"
      ]
     },
     "execution_count": 100,
     "metadata": {},
     "output_type": "execute_result"
    }
   ],
   "source": [
    "CI = [mean(mark) - t.ppf(0.975, df)*math.sqrt(variance(mark)/len(mark)), mean(mark) + t.ppf(0.975, df)*math.sqrt(variance(mark)/len(mark))]\n",
    "CI"
   ]
  },
  {
   "cell_type": "code",
   "execution_count": 101,
   "metadata": {},
   "outputs": [
    {
     "name": "stdout",
     "output_type": "stream",
     "text": [
      "-3.374001452560113\n",
      "0.0010660920719953336\n"
     ]
    }
   ],
   "source": [
    "# built-in function to test:\n",
    "test, p = stats.ttest_1samp(mark, popmean=mu0) # by default, this is a 2 sided test.\n",
    "print(test)\n",
    "print(p) #  p-value for 2 sided test"
   ]
  },
  {
   "cell_type": "code",
   "execution_count": 102,
   "metadata": {},
   "outputs": [
    {
     "data": {
      "image/png": "[encoded data removed]",
      "text/plain": [
       "<Figure size 432x288 with 1 Axes>"
      ]
     },
     "metadata": {
      "needs_background": "light"
     },
     "output_type": "display_data"
    }
   ],
   "source": [
    "## Checking assumptions made: data is approximately normaly distributed\n",
    "# histogram\n",
    "inter = (max(mark) - min(mark) )/(len(mark)) \n",
    "l = list(np.arange((min(mark) - 2),(max(mark) + 2),step = inter))\n",
    "y = scst.norm.pdf(l,loc = mean(mark),scale = np.std(mark))\n",
    "\n",
    "plt.plot(l, y)\n",
    "plt.hist(mark, bins=None, range=None, density=True, color='C2')\n",
    "plt.title('Histogram of mark') \n",
    "plt.xlabel('') \n",
    "plt.ylabel('Probability') \n",
    "plt.show()"
   ]
  },
  {
   "cell_type": "code",
   "execution_count": 105,
   "metadata": {},
   "outputs": [
    {
     "data": {
      "image/png": "[encoded data removed]",
      "text/plain": [
       "<Figure size 432x288 with 1 Axes>"
      ]
     },
     "metadata": {
      "needs_background": "light"
     },
     "output_type": "display_data"
    }
   ],
   "source": [
    "######################  QQ PLOTS\n",
    "scst.probplot(mark, dist=\"norm\", plot=pylab)\n",
    "pylab.title('QQ Plot') \n",
    "pylab.show()"
   ]
  },
  {
   "cell_type": "code",
   "execution_count": null,
   "metadata": {},
   "outputs": [],
   "source": [
    "# Normal: https://docs.scipy.org/doc/scipy/reference/generated/scipy.stats.norm.html\n",
    "# Exponential: https://docs.scipy.org/doc/scipy/reference/generated/scipy.stats.expon.html\n",
    "# t distribution: https://docs.scipy.org/doc/scipy/reference/generated/scipy.stats.t.html"
   ]
  },
  {
   "cell_type": "code",
   "execution_count": 2,
   "metadata": {},
   "outputs": [
    {
     "name": "stdout",
     "output_type": "stream",
     "text": [
      "   glaucoma  unaffected  diff\n",
      "0       488         484     4\n",
      "1       468         478   -10\n",
      "2       480         492   -12\n",
      "3       426         444   -18\n",
      "4       440         436     4\n",
      "5       402         398     4\n",
      "6       458         464    -6\n",
      "7       460         476   -16\n"
     ]
    }
   ],
   "source": [
    "#Q2\n",
    "data = pd.read_csv(r\"glaucoma_dep.csv\" ,sep = \",\")\n",
    "print(data)\n",
    "\n"
   ]
  },
  {
   "cell_type": "code",
   "execution_count": 10,
   "metadata": {},
   "outputs": [
    {
     "name": "stdout",
     "output_type": "stream",
     "text": [
      "Ttest_relResult(statistic=-1.9166073440240927, pvalue=0.09681187115856855)\n"
     ]
    }
   ],
   "source": [
    "# (a) paired t-test for the matched of \"glaucoma\" and \"unaffected\"\n",
    "test = scst.ttest_rel(data['glaucoma'], data['unaffected'], axis=0) #two sided test\n",
    "print(test)\n",
    "#two sided test has p-value  = 0.0968 with a negative statistic\n",
    "#hence, 1 sided p-value (left test) has p-value of 0.0484"
   ]
  },
  {
   "cell_type": "code",
   "execution_count": 11,
   "metadata": {},
   "outputs": [
    {
     "data": {
      "text/plain": [
       "BartlettResult(statistic=0.05100586181209413, pvalue=0.8213221522022819)"
      ]
     },
     "execution_count": 11,
     "metadata": {},
     "output_type": "execute_result"
    }
   ],
   "source": [
    "#(b)to perform 2 independent samples t-test then\n",
    "#need to test if variances are equal first, using Barlett test:\n",
    "\n",
    "scipy.stats.bartlett(data['glaucoma'], data['unaffected'])  \n",
    "#large p-value suggest two samples have equal variances"
   ]
  },
  {
   "cell_type": "code",
   "execution_count": 12,
   "metadata": {},
   "outputs": [
    {
     "name": "stdout",
     "output_type": "stream",
     "text": [
      "(-0.41641061980739086, 0.34171155306419165, 14.0)\n"
     ]
    }
   ],
   "source": [
    "#2 independent samples t-test:\n",
    "import statsmodels.api\n",
    "test= statsmodels.stats.weightstats.ttest_ind(data['glaucoma'], data['unaffected'], alternative='smaller', usevar='pooled', value=0)\n",
    "print(test) \n",
    "#p-value = 0.34171"
   ]
  },
  {
   "cell_type": "code",
   "execution_count": null,
   "metadata": {},
   "outputs": [],
   "source": []
  }
 ],
 "metadata": {
  "kernelspec": {
   "display_name": "Python 3",
   "language": "python",
   "name": "python3"
  },
  "language_info": {
   "codemirror_mode": {
    "name": "ipython",
    "version": 3
   },
   "file_extension": ".py",
   "mimetype": "text/x-python",
   "name": "python",
   "nbconvert_exporter": "python",
   "pygments_lexer": "ipython3",
   "version": "3.8.8"
  }
 },
 "nbformat": 4,
 "nbformat_minor": 4
}
