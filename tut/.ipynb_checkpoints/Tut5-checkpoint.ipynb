{
 "cells": [
  {
   "attachments": {},
   "cell_type": "markdown",
   "metadata": {},
   "source": [
    "# Q1 The file student.txt contains results of a class survey of university students taking Statistics. There were 219 students who took part in the survey. The variables and their corresponding descriptions are given below. Answer all questions from using R, then repeat them in Python.\n",
    "\n",
    "\n",
    "Variable id\n",
    "gender workhour drivelic travel\n",
    "Description\n",
    "Identifier code\n",
    "F = Female, M = Male\n",
    "Hours worked per week at a paid job\n",
    "Driving licence (N = No, Y = Yes)\n",
    "Ever travel outside Asia? (N = No, Y = Yes)\n",
    "\n",
    " (a) Give labels to the values in the variables gender, drivelic and travel (for example ‘M’ can be labeled as ‘Male’).\n",
    " \n",
    "(b) Generate frequency counts for the variables gender, drivelic and travel.\n",
    "(c) Create a contingency table of frequency for gender and drivelic. Is having a driving licence\n",
    "independent of gender? Explain.\n",
    "(d) Create a categorical variable whg to represent the work hour group using the following rule:\n",
    "The first group includes all the students with 0 work hour. Its label is “None (0 hrs)”;\n",
    "The second group includes all the students who work less than 20 hours per week. Its label is “Some (1 - 19 hrs)”; and\n",
    "The third group includes all the students who work 20 or more hours per week. Its label is\n",
    "“Many (20 - 99 hrs)”.\n",
    "(e) Perform a chi-square test to test the relationship between ever travel outside Asia and work hour group. Are these two variables statistically independent at significance level 0.05? Comments on the standardized residuals of the test and the suitability of the test for these two variables."
   ]
  },
  {
   "cell_type": "code",
   "execution_count": 2,
   "metadata": {},
   "outputs": [],
   "source": [
    "import numpy as np\n",
    "import pandas as pd\n"
   ]
  },
  {
   "cell_type": "code",
   "execution_count": 30,
   "metadata": {},
   "outputs": [
    {
     "name": "stdout",
     "output_type": "stream",
     "text": [
      "     Unnamed: 0    id gender  workhour drivelic travel\n",
      "0             1  1001      F      10.0        Y      Y\n",
      "1             2  1002      M      10.0        Y      N\n",
      "2             3  1003      F       0.0        N      N\n",
      "3             4  1004      F      20.5        Y      Y\n",
      "4             5  1005      M       0.0        Y      N\n",
      "..          ...   ...    ...       ...      ...    ...\n",
      "214         215  1215      M      40.0        Y      Y\n",
      "215         216  1216      F       9.0        N      Y\n",
      "216         217  1217      M       6.0        Y      N\n",
      "217         218  1218      F      12.5        Y      Y\n",
      "218         219  1219      M      12.5        Y      Y\n",
      "\n",
      "[219 rows x 6 columns]\n"
     ]
    }
   ],
   "source": [
    "#Q1\n",
    "data = pd.read_csv(r\"/Users/zzy/Desktop/ST2137/Data/student.txt\", sep = \",\")\n",
    "print(data)"
   ]
  },
  {
   "cell_type": "code",
   "execution_count": 33,
   "metadata": {
    "scrolled": true
   },
   "outputs": [],
   "source": [
    "#Q1a \n",
    "# Label for Gender\n",
    "n = len(data.gender)\n",
    "\n",
    "for i in range(n):\n",
    "    if data.gender[i] == \"F\":\n",
    "        data,gender[i] = \"Female\"\n",
    "    elif data.gender[i] == \"M\" :\n",
    "        data.gender[i] = \"Male\"\n"
   ]
  },
  {
   "cell_type": "code",
   "execution_count": 34,
   "metadata": {},
   "outputs": [
    {
     "name": "stdout",
     "output_type": "stream",
     "text": [
      "Female\n",
      "Male\n",
      "     Unnamed: 0    id  gender  workhour drivelic travel\n",
      "0             1  1001  Female      10.0        Y      Y\n",
      "1             2  1002    Male      10.0        Y      N\n",
      "2             3  1003  Female       0.0        N      N\n",
      "3             4  1004  Female      20.5        Y      Y\n",
      "4             5  1005    Male       0.0        Y      N\n",
      "..          ...   ...     ...       ...      ...    ...\n",
      "214         215  1215    Male      40.0        Y      Y\n",
      "215         216  1216  Female       9.0        N      Y\n",
      "216         217  1217    Male       6.0        Y      N\n",
      "217         218  1218  Female      12.5        Y      Y\n",
      "218         219  1219    Male      12.5        Y      Y\n",
      "\n",
      "[219 rows x 6 columns]\n"
     ]
    }
   ],
   "source": [
    "print(data.gender[0])\n",
    "print(data.gender[218])\n",
    "print(data)"
   ]
  },
  {
   "cell_type": "code",
   "execution_count": 35,
   "metadata": {},
   "outputs": [
    {
     "name": "stderr",
     "output_type": "stream",
     "text": [
      "<ipython-input-35-48021f640ac4>:5: SettingWithCopyWarning: \n",
      "A value is trying to be set on a copy of a slice from a DataFrame\n",
      "\n",
      "See the caveats in the documentation: https://pandas.pydata.org/pandas-docs/stable/user_guide/indexing.html#returning-a-view-versus-a-copy\n",
      "  data.travel[i] = \"Yes\"\n",
      "<ipython-input-35-48021f640ac4>:7: SettingWithCopyWarning: \n",
      "A value is trying to be set on a copy of a slice from a DataFrame\n",
      "\n",
      "See the caveats in the documentation: https://pandas.pydata.org/pandas-docs/stable/user_guide/indexing.html#returning-a-view-versus-a-copy\n",
      "  data.travel[i] = \"No\"\n"
     ]
    }
   ],
   "source": [
    "# Label for travel\n",
    "n = len(data.travel)\n",
    "for i in range(n):\n",
    "    if data.travel[i]==\"Y\":\n",
    "        data.travel[i] = \"Yes\"\n",
    "    else:\n",
    "        data.travel[i] = \"No\"\n",
    "\n"
   ]
  },
  {
   "cell_type": "code",
   "execution_count": 36,
   "metadata": {},
   "outputs": [
    {
     "name": "stdout",
     "output_type": "stream",
     "text": [
      "Yes\n",
      "Yes\n"
     ]
    }
   ],
   "source": [
    "print(data.travel[0])\n",
    "print(data.travel[218])"
   ]
  },
  {
   "cell_type": "code",
   "execution_count": 37,
   "metadata": {},
   "outputs": [
    {
     "name": "stderr",
     "output_type": "stream",
     "text": [
      "<ipython-input-37-168cb818fb66>:5: SettingWithCopyWarning: \n",
      "A value is trying to be set on a copy of a slice from a DataFrame\n",
      "\n",
      "See the caveats in the documentation: https://pandas.pydata.org/pandas-docs/stable/user_guide/indexing.html#returning-a-view-versus-a-copy\n",
      "  data.drivelic[i] = \"Yes\"\n",
      "<ipython-input-37-168cb818fb66>:7: SettingWithCopyWarning: \n",
      "A value is trying to be set on a copy of a slice from a DataFrame\n",
      "\n",
      "See the caveats in the documentation: https://pandas.pydata.org/pandas-docs/stable/user_guide/indexing.html#returning-a-view-versus-a-copy\n",
      "  data.drivelic[i] = \"No\"\n"
     ]
    }
   ],
   "source": [
    "# Label for drivelic\n",
    "n = len(data.drivelic)\n",
    "for i in range(n):\n",
    "    if data.drivelic[i]==\"Y\":\n",
    "        data.drivelic[i] = \"Yes\"\n",
    "    else:\n",
    "        data.drivelic[i] = \"No\"\n",
    "\n"
   ]
  },
  {
   "cell_type": "code",
   "execution_count": 39,
   "metadata": {},
   "outputs": [
    {
     "name": "stdout",
     "output_type": "stream",
     "text": [
      "Yes\n",
      "Yes\n",
      "     Unnamed: 0    id  gender  workhour drivelic travel\n",
      "0             1  1001  Female      10.0      Yes    Yes\n",
      "1             2  1002    Male      10.0      Yes     No\n",
      "2             3  1003  Female       0.0       No     No\n",
      "3             4  1004  Female      20.5      Yes    Yes\n",
      "4             5  1005    Male       0.0      Yes     No\n",
      "..          ...   ...     ...       ...      ...    ...\n",
      "214         215  1215    Male      40.0      Yes    Yes\n",
      "215         216  1216  Female       9.0       No    Yes\n",
      "216         217  1217    Male       6.0      Yes     No\n",
      "217         218  1218  Female      12.5      Yes    Yes\n",
      "218         219  1219    Male      12.5      Yes    Yes\n",
      "\n",
      "[219 rows x 6 columns]\n"
     ]
    }
   ],
   "source": [
    "print(data.drivelic[0])\n",
    "print(data.drivelic[218])\n",
    "print(data)"
   ]
  },
  {
   "cell_type": "code",
   "execution_count": 45,
   "metadata": {},
   "outputs": [
    {
     "name": "stdout",
     "output_type": "stream",
     "text": [
      "col_0   count\n",
      "gender       \n",
      "Female     96\n",
      "Male      123\n"
     ]
    }
   ],
   "source": [
    "#Q1b\n",
    "\n",
    "tab1 = pd.crosstab(data.gender, columns= 'Gender' )\n",
    "print(tab1)"
   ]
  },
  {
   "cell_type": "code",
   "execution_count": 23,
   "metadata": {},
   "outputs": [
    {
     "name": "stdout",
     "output_type": "stream",
     "text": [
      "col_0   count\n",
      "travel       \n",
      "No         53\n",
      "Yes       166\n"
     ]
    }
   ],
   "source": [
    "tab2 = pd.crosstab(index=data.travel,columns=\"count\") \n",
    "print(tab2)"
   ]
  },
  {
   "cell_type": "code",
   "execution_count": 24,
   "metadata": {},
   "outputs": [
    {
     "name": "stdout",
     "output_type": "stream",
     "text": [
      "col_0     count\n",
      "drivelic       \n",
      "No           78\n",
      "Yes         141\n"
     ]
    }
   ],
   "source": [
    "tab2 = pd.crosstab(index=data.drivelic,columns=\"count\") \n",
    "print(tab2)"
   ]
  },
  {
   "cell_type": "code",
   "execution_count": 25,
   "metadata": {},
   "outputs": [
    {
     "name": "stdout",
     "output_type": "stream",
     "text": [
      "drivelic  No  Yes\n",
      "gender           \n",
      "Female    36   60\n",
      "Male      42   81\n"
     ]
    }
   ],
   "source": [
    "#Q1c Driving licence and gender are independent?\n",
    "tab = pd.crosstab(data.gender, data.drivelic)\n",
    "print(tab)"
   ]
  },
  {
   "cell_type": "code",
   "execution_count": 27,
   "metadata": {},
   "outputs": [
    {
     "name": "stdout",
     "output_type": "stream",
     "text": [
      "               Estimate   SE   LCB    UCB  p-value\n",
      "--------------------------------------------------\n",
      "Odds ratio        1.157        0.663 2.019   0.607\n",
      "Log odds ratio    0.146 0.284 -0.410 0.702   0.607\n",
      "Risk ratio        1.098        0.769 1.568   0.606\n",
      "Log risk ratio    0.094 0.182 -0.263 0.450   0.606\n",
      "--------------------------------------------------\n"
     ]
    }
   ],
   "source": [
    "#Q1c\n",
    "import statsmodels.api as sm\n",
    "table = np.array([[36,60], [42,81]])\n",
    "\n",
    "sum_table = sm.stats.Table2x2(table)\n",
    "\n",
    "print(sum_table.summary())"
   ]
  },
  {
   "cell_type": "code",
   "execution_count": null,
   "metadata": {},
   "outputs": [],
   "source": []
  },
  {
   "cell_type": "code",
   "execution_count": 28,
   "metadata": {},
   "outputs": [
    {
     "name": "stdout",
     "output_type": "stream",
     "text": [
      "Some (1 - 19 hrs)\n",
      "Many (20 - 99 hrs)\n"
     ]
    }
   ],
   "source": [
    "#Q1d creat a new variable whg\n",
    "n = len(data.workhour)\n",
    "whg = []\n",
    "\n",
    "for i in range(n):\n",
    "    if data.workhour[i]==0:\n",
    "        whg.append(\"None (0 hrs)\")\n",
    "    elif data.workhour[i]< 20:\n",
    "        whg.append(\"Some (1 - 19 hrs)\")\n",
    "    else:\n",
    "        whg.append(\"Many (20 - 99 hrs)\")\n",
    "\n",
    "print(whg[0])\n",
    "print(whg[214])"
   ]
  },
  {
   "cell_type": "code",
   "execution_count": 30,
   "metadata": {},
   "outputs": [
    {
     "name": "stdout",
     "output_type": "stream",
     "text": [
      "     Unnamed: 0    id  gender  workhour drivelic travel                 whg\n",
      "0             1  1001  Female      10.0      Yes    Yes   Some (1 - 19 hrs)\n",
      "1             2  1002    Male      10.0      Yes     No   Some (1 - 19 hrs)\n",
      "2             3  1003  Female       0.0       No     No        None (0 hrs)\n",
      "3             4  1004  Female      20.5      Yes    Yes  Many (20 - 99 hrs)\n",
      "4             5  1005    Male       0.0      Yes     No        None (0 hrs)\n",
      "..          ...   ...     ...       ...      ...    ...                 ...\n",
      "214         215  1215    Male      40.0      Yes    Yes  Many (20 - 99 hrs)\n",
      "215         216  1216  Female       9.0       No    Yes   Some (1 - 19 hrs)\n",
      "216         217  1217    Male       6.0      Yes     No   Some (1 - 19 hrs)\n",
      "217         218  1218  Female      12.5      Yes    Yes   Some (1 - 19 hrs)\n",
      "218         219  1219    Male      12.5      Yes    Yes   Some (1 - 19 hrs)\n",
      "\n",
      "[219 rows x 7 columns]\n"
     ]
    }
   ],
   "source": [
    "#Q1e\n",
    "data['whg'] = whg\n",
    "print(data)\n"
   ]
  },
  {
   "cell_type": "code",
   "execution_count": null,
   "metadata": {},
   "outputs": [],
   "source": []
  },
  {
   "cell_type": "code",
   "execution_count": 32,
   "metadata": {},
   "outputs": [
    {
     "name": "stdout",
     "output_type": "stream",
     "text": [
      "travel              No  Yes\n",
      "whg                        \n",
      "Many (20 - 99 hrs)   7   30\n",
      "None (0 hrs)        19   82\n",
      "Some (1 - 19 hrs)   27   54\n",
      "(5.844382736412654, 0.053815628135550415, 2, array([[ 8.9543379 , 28.0456621 ],\n",
      "       [24.44292237, 76.55707763],\n",
      "       [19.60273973, 61.39726027]]))\n"
     ]
    }
   ],
   "source": [
    "#Q1e Need to use chi-square test:\n",
    "import scipy.stats as scst\n",
    "\n",
    "table = pd.crosstab(data.whg,data.travel)\n",
    "print(table)\n",
    "print (scst.chi2_contingency(table, correction = True) ) \n",
    "#test statistic; p-value, dof, and expected values are produced"
   ]
  },
  {
   "cell_type": "code",
   "execution_count": null,
   "metadata": {},
   "outputs": [],
   "source": []
  },
  {
   "cell_type": "code",
   "execution_count": null,
   "metadata": {},
   "outputs": [],
   "source": []
  },
  {
   "cell_type": "code",
   "execution_count": 33,
   "metadata": {},
   "outputs": [
    {
     "name": "stdout",
     "output_type": "stream",
     "text": [
      "[[  22 1179]\n",
      " [  22 1409]]\n"
     ]
    }
   ],
   "source": [
    "#Q2: SAMOAN DATA\n",
    "# A helpful link: https://www.statsmodels.org/stable/contingency_tables.html\n",
    "\n",
    "import scipy.stats as scst\n",
    "samoa = np.array([[22,1179], [22,1409]])\n",
    "print(samoa)\n"
   ]
  },
  {
   "cell_type": "code",
   "execution_count": 34,
   "metadata": {},
   "outputs": [
    {
     "name": "stdout",
     "output_type": "stream",
     "text": [
      "[[  20.0775076 1180.9224924]\n",
      " [  23.9224924 1407.0775076]]\n"
     ]
    }
   ],
   "source": [
    "#Q2a: Form a contingency table\n",
    "import statsmodels.api as sm\n",
    "\n",
    "\n",
    "table = sm.stats.Table(samoa)\n",
    "print(table.fittedvalues) #this is the expected values if the 2 variables are independent\n"
   ]
  },
  {
   "cell_type": "code",
   "execution_count": 35,
   "metadata": {},
   "outputs": [
    {
     "name": "stdout",
     "output_type": "stream",
     "text": [
      "               Estimate   SE   LCB    UCB  p-value\n",
      "--------------------------------------------------\n",
      "Odds ratio        1.195        0.659 2.169   0.558\n",
      "Log odds ratio    0.178 0.304 -0.418 0.774   0.558\n",
      "Risk ratio        1.192        0.663 2.141   0.558\n",
      "Log risk ratio    0.175 0.299 -0.411 0.761   0.558\n",
      "--------------------------------------------------\n"
     ]
    }
   ],
   "source": [
    "#Q2b To get the sample OR\n",
    "sum_table = sm.stats.Table2x2(samoa)\n",
    "\n",
    "print(sum_table.summary()) \n",
    "#the sample OR is 1.195\n",
    "#interpretation: check the R file\n"
   ]
  },
  {
   "cell_type": "code",
   "execution_count": 36,
   "metadata": {},
   "outputs": [
    {
     "name": "stdout",
     "output_type": "stream",
     "text": [
      "               Estimate   SE   LCB    UCB  p-value\n",
      "--------------------------------------------------\n",
      "Odds ratio        1.195        0.546 2.616   0.558\n",
      "Log odds ratio    0.178 0.304 -0.605 0.961   0.558\n",
      "Risk ratio        1.192        0.552 2.574   0.558\n",
      "Log risk ratio    0.175 0.299 -0.595 0.945   0.558\n",
      "--------------------------------------------------\n"
     ]
    }
   ],
   "source": [
    "#Q2c: CI of OR\n",
    "#Check the above output, the 95% CI for OR is: (0.659, 2.169)\n",
    "\n",
    "print(sum_table.summary(alpha = 0.01)) #use this if we want a 99% CI"
   ]
  },
  {
   "cell_type": "code",
   "execution_count": null,
   "metadata": {},
   "outputs": [],
   "source": [
    "#Q2d:\n",
    "#From the output above, the sample RR = 1.192\n",
    "#Check R file for the interpretation of this value.\n"
   ]
  },
  {
   "cell_type": "code",
   "execution_count": null,
   "metadata": {},
   "outputs": [],
   "source": []
  },
  {
   "cell_type": "code",
   "execution_count": null,
   "metadata": {},
   "outputs": [],
   "source": []
  },
  {
   "cell_type": "code",
   "execution_count": null,
   "metadata": {},
   "outputs": [],
   "source": []
  },
  {
   "cell_type": "code",
   "execution_count": null,
   "metadata": {},
   "outputs": [],
   "source": []
  },
  {
   "cell_type": "code",
   "execution_count": null,
   "metadata": {},
   "outputs": [],
   "source": []
  }
 ],
 "metadata": {
  "kernelspec": {
   "display_name": "Python 3",
   "language": "python",
   "name": "python3"
  },
  "language_info": {
   "codemirror_mode": {
    "name": "ipython",
    "version": 3
   },
   "file_extension": ".py",
   "mimetype": "text/x-python",
   "name": "python",
   "nbconvert_exporter": "python",
   "pygments_lexer": "ipython3",
   "version": "3.8.8"
  }
 },
 "nbformat": 4,
 "nbformat_minor": 2
}
