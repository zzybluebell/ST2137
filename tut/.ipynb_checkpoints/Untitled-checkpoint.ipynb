{
 "cells": [
  {
   "cell_type": "markdown",
   "id": "70b6c88d",
   "metadata": {},
   "source": [
    "# Q1 In many manufacturing processes the term work-in-process (often abbreviated WIP) is used. \n",
    "\n",
    "In a book manufacturing plant the WIP represents the time it takes for sheets from a press to be folded, gathered, sewn, tipped on end sheets, and bound. The data set wip.txt represents samples of 20 books at each of two production plants and the processing time (defined as the time in days from when the books came from the press to when they were packed in cartoons) for these jobs. There are two variables in the this data set. They are time and plant.\n",
    "\n",
    "(a) For each of the two plants, using R to compute the following descriptive statistics: mean, median, first quartile, third quartile, minimum, maximum, the range, interquartile range, variance and standard deviation.\n",
    "\n",
    "(b) Draw a histogram and box plot for the processing time for each of the two plants using R\n",
    "\n",
    "(c) Based on (a) and (b), are there any di↵erences between the processing times of the two plants? Explain.\n",
    "\n",
    "(d) Repeat (a) and (b) using Python."
   ]
  },
  {
   "cell_type": "code",
   "execution_count": null,
   "id": "5a2923de",
   "metadata": {},
   "outputs": [],
   "source": [
    "import pandas as pd\n",
    "import pandas as pd\n",
    "import numpy as np\n",
    "import statistics as st\n",
    "import matplotlib.pyplot as plt\n",
    "import pylab \n",
    "import math\n",
    "import scipy.stats as scst\n",
    "\n",
    "from statistics import mean\n",
    "from statistics import median\n",
    "from statistics import variance"
   ]
  },
  {
   "cell_type": "code",
   "execution_count": 10,
   "id": "78a9ac6c",
   "metadata": {},
   "outputs": [
    {
     "name": "stdout",
     "output_type": "stream",
     "text": [
      "     time  plant\n",
      "0    5.62      1\n",
      "1    5.29      1\n",
      "2   16.25      1\n",
      "3   10.92      1\n",
      "4   11.46      1\n",
      "5   21.62      1\n",
      "6    8.45      1\n",
      "7    8.58      1\n",
      "8    5.41      1\n",
      "9   11.42      1\n",
      "10  11.62      1\n",
      "11   7.29      1\n",
      "12   7.50      1\n",
      "13   7.96      1\n",
      "14   4.42      1\n",
      "15  10.50      1\n",
      "16   7.58      1\n",
      "17   9.29      1\n",
      "18   7.54      1\n",
      "19   8.92      1\n",
      "20   9.54      2\n",
      "21  11.46      2\n",
      "22  16.62      2\n",
      "23  12.62      2\n",
      "24  25.75      2\n",
      "25  15.41      2\n",
      "26  14.29      2\n",
      "27  13.13      2\n",
      "28  13.71      2\n",
      "29  10.04      2\n",
      "30   5.75      2\n",
      "31  12.46      2\n",
      "32   9.17      2\n",
      "33  13.21      2\n",
      "34   6.00      2\n",
      "35   2.33      2\n",
      "36  14.25      2\n",
      "37   5.37      2\n",
      "38   6.25      2\n",
      "39   9.71      2\n"
     ]
    }
   ],
   "source": [
    "data = pd.read_csv(r\"/Users/zzy/Desktop/ST2137/Data/wip.txt\", sep = \" \")\n",
    "print(data)"
   ]
  },
  {
   "cell_type": "code",
   "execution_count": 11,
   "id": "f5abb684",
   "metadata": {},
   "outputs": [
    {
     "name": "stdout",
     "output_type": "stream",
     "text": [
      "count    40.000000\n",
      "mean     10.367750\n",
      "std       4.645879\n",
      "min       2.330000\n",
      "25%       7.447500\n",
      "50%       9.625000\n",
      "75%      12.747500\n",
      "max      25.750000\n",
      "Name: time, dtype: float64\n"
     ]
    }
   ],
   "source": [
    "print(data['time'].describe())"
   ]
  },
  {
   "cell_type": "code",
   "execution_count": 12,
   "id": "192e2bd0",
   "metadata": {},
   "outputs": [
    {
     "name": "stdout",
     "output_type": "stream",
     "text": [
      "count    40.00000\n",
      "mean      1.50000\n",
      "std       0.50637\n",
      "min       1.00000\n",
      "25%       1.00000\n",
      "50%       1.50000\n",
      "75%       2.00000\n",
      "max       2.00000\n",
      "Name: plant, dtype: float64\n"
     ]
    }
   ],
   "source": [
    "print(data['plant'].describe())"
   ]
  },
  {
   "cell_type": "code",
   "execution_count": 28,
   "id": "2e8e9a94",
   "metadata": {},
   "outputs": [
    {
     "name": "stdout",
     "output_type": "stream",
     "text": [
      "count    20.000000\n",
      "mean      9.382000\n",
      "std       3.997653\n",
      "min       4.420000\n",
      "25%       7.447500\n",
      "50%       8.515000\n",
      "75%      11.045000\n",
      "max      21.620000\n",
      "Name: time, dtype: float64\n"
     ]
    }
   ],
   "source": [
    "p1 = data.time[data.plant == 1]\n",
    "p2 = data.time[data.plant == 2]\n",
    "               \n",
    "print(p1.describe())"
   ]
  },
  {
   "cell_type": "code",
   "execution_count": 29,
   "id": "2db10472",
   "metadata": {},
   "outputs": [
    {
     "name": "stdout",
     "output_type": "stream",
     "text": [
      "count    20.000000\n",
      "mean     11.353500\n",
      "std       5.126156\n",
      "min       2.330000\n",
      "25%       8.440000\n",
      "50%      11.960000\n",
      "75%      13.845000\n",
      "max      25.750000\n",
      "Name: time, dtype: float64\n"
     ]
    }
   ],
   "source": [
    "print(p2.describe()) #Qs 1 finished"
   ]
  },
  {
   "cell_type": "code",
   "execution_count": 41,
   "id": "5d1f647d",
   "metadata": {},
   "outputs": [
    {
     "name": "stdout",
     "output_type": "stream",
     "text": [
      "1st plant: [4.42, 21.62]\n",
      "1st plant: [9.382, 8.515]\n",
      "2nd plant: [2.33, 25.75]\n",
      "2nd plant: [11.3535, 11.96]\n"
     ]
    }
   ],
   "source": [
    "print(\"1st plant: \" + str([min(p1), max(p1)]))\n",
    "print(\"1st plant: \"+ str([mean(p1), median(p1)]))\n",
    "print(\"2nd plant: \" + str([min(p2), max(p2)]))\n",
    "print(\"2nd plant: \"+ str([mean(p2), median(p2)]))"
   ]
  },
  {
   "cell_type": "code",
   "execution_count": 43,
   "id": "80c5ce87",
   "metadata": {},
   "outputs": [
    {
     "name": "stdout",
     "output_type": "stream",
     "text": [
      "3.5975\n",
      "5.405000000000001\n"
     ]
    }
   ],
   "source": [
    "print(scst.iqr(p1))\n",
    "print(scst.iqr(p2))"
   ]
  },
  {
   "cell_type": "code",
   "execution_count": 47,
   "id": "5bb1c7ee",
   "metadata": {},
   "outputs": [
    {
     "name": "stdout",
     "output_type": "stream",
     "text": [
      "3.997652732344451\n",
      "5.126156121203037\n"
     ]
    }
   ],
   "source": [
    "print(p1.std())\n",
    "print(p2.std())"
   ]
  },
  {
   "cell_type": "code",
   "execution_count": 50,
   "id": "426db94e",
   "metadata": {},
   "outputs": [],
   "source": [
    "#plant 1\n",
    "inter = (max(p1) - min(p1)) / len(p1)\n",
    "l = list(np.arange(min(p1), max(p1), step = inter))\n",
    "y = scst.norm.pdf(l, loc = mean(p1), scale = np.std(p1))\n",
    "\n",
    "\n",
    "\n"
   ]
  },
  {
   "cell_type": "code",
   "execution_count": null,
   "id": "6ecee0e3",
   "metadata": {},
   "outputs": [],
   "source": []
  },
  {
   "cell_type": "code",
   "execution_count": null,
   "id": "97bbf259",
   "metadata": {},
   "outputs": [],
   "source": []
  },
  {
   "cell_type": "code",
   "execution_count": null,
   "id": "8ed1b7e0",
   "metadata": {},
   "outputs": [],
   "source": []
  },
  {
   "cell_type": "code",
   "execution_count": null,
   "id": "74896a6a",
   "metadata": {},
   "outputs": [],
   "source": []
  },
  {
   "cell_type": "code",
   "execution_count": null,
   "id": "0aee4ba1",
   "metadata": {},
   "outputs": [],
   "source": []
  },
  {
   "cell_type": "code",
   "execution_count": null,
   "id": "c6c264a0",
   "metadata": {},
   "outputs": [],
   "source": []
  }
 ],
 "metadata": {
  "kernelspec": {
   "display_name": "Python 3",
   "language": "python",
   "name": "python3"
  },
  "language_info": {
   "codemirror_mode": {
    "name": "ipython",
    "version": 3
   },
   "file_extension": ".py",
   "mimetype": "text/x-python",
   "name": "python",
   "nbconvert_exporter": "python",
   "pygments_lexer": "ipython3",
   "version": "3.8.8"
  }
 },
 "nbformat": 4,
 "nbformat_minor": 5
}
