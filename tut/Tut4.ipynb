{
 "cells": [
  {
   "cell_type": "code",
   "execution_count": 1,
   "metadata": {},
   "outputs": [
    {
     "name": "stdout",
     "output_type": "stream",
     "text": [
      "     time  plant\n",
      "0    5.62      1\n",
      "1    5.29      1\n",
      "2   16.25      1\n",
      "3   10.92      1\n",
      "4   11.46      1\n",
      "5   21.62      1\n",
      "6    8.45      1\n",
      "7    8.58      1\n",
      "8    5.41      1\n",
      "9   11.42      1\n",
      "10  11.62      1\n",
      "11   7.29      1\n",
      "12   7.50      1\n",
      "13   7.96      1\n",
      "14   4.42      1\n",
      "15  10.50      1\n",
      "16   7.58      1\n",
      "17   9.29      1\n",
      "18   7.54      1\n",
      "19   8.92      1\n",
      "20   9.54      2\n",
      "21  11.46      2\n",
      "22  16.62      2\n",
      "23  12.62      2\n",
      "24  25.75      2\n",
      "25  15.41      2\n",
      "26  14.29      2\n",
      "27  13.13      2\n",
      "28  13.71      2\n",
      "29  10.04      2\n",
      "30   5.75      2\n",
      "31  12.46      2\n",
      "32   9.17      2\n",
      "33  13.21      2\n",
      "34   6.00      2\n",
      "35   2.33      2\n",
      "36  14.25      2\n",
      "37   5.37      2\n",
      "38   6.25      2\n",
      "39   9.71      2\n"
     ]
    }
   ],
   "source": [
    "import pandas as pd\n",
    "import pandas as pd\n",
    "import numpy as np\n",
    "import statistics as st\n",
    "import matplotlib.pyplot as plt\n",
    "import pylab \n",
    "import math\n",
    "import scipy.stats as scst\n",
    "\n",
    "from statistics import mean\n",
    "from statistics import median\n",
    "from statistics import variance\n",
    "\n",
    "data = pd.read_csv(r\"C:/Data/wip.txt\" ,sep = \" \")\n",
    "print(data)\n",
    "\n"
   ]
  },
  {
   "cell_type": "code",
   "execution_count": 2,
   "metadata": {},
   "outputs": [
    {
     "name": "stdout",
     "output_type": "stream",
     "text": [
      "count    40.000000\n",
      "mean     10.367750\n",
      "std       4.645879\n",
      "min       2.330000\n",
      "25%       7.447500\n",
      "50%       9.625000\n",
      "75%      12.747500\n",
      "max      25.750000\n",
      "Name: time, dtype: float64\n"
     ]
    }
   ],
   "source": [
    "print(data['time'].describe()) # summaries of time"
   ]
  },
  {
   "cell_type": "code",
   "execution_count": 3,
   "metadata": {},
   "outputs": [
    {
     "name": "stdout",
     "output_type": "stream",
     "text": [
      "count    20.000000\n",
      "mean      9.382000\n",
      "std       3.997653\n",
      "min       4.420000\n",
      "25%       7.447500\n",
      "50%       8.515000\n",
      "75%      11.045000\n",
      "max      21.620000\n",
      "Name: time, dtype: float64\n"
     ]
    }
   ],
   "source": [
    "plant_one = data.time[data.plant == 1 ]\n",
    "plant_two = data.time[data.plant == 2 ]\n",
    "\n",
    "print(plant_one.describe())"
   ]
  },
  {
   "cell_type": "code",
   "execution_count": 83,
   "metadata": {},
   "outputs": [
    {
     "name": "stdout",
     "output_type": "stream",
     "text": [
      "count    20.000000\n",
      "mean     11.353500\n",
      "std       5.126156\n",
      "min       2.330000\n",
      "25%       8.440000\n",
      "50%      11.960000\n",
      "75%      13.845000\n",
      "max      25.750000\n",
      "Name: time, dtype: float64\n"
     ]
    }
   ],
   "source": [
    "print(plant_two.describe())"
   ]
  },
  {
   "cell_type": "code",
   "execution_count": 84,
   "metadata": {},
   "outputs": [
    {
     "name": "stdout",
     "output_type": "stream",
     "text": [
      "[4.42, 21.62]\n",
      "[9.382, 8.515]\n",
      "[2.33, 25.75]\n",
      "[11.3535, 11.96]\n"
     ]
    }
   ],
   "source": [
    "print( [ min(plant_one), max(plant_one) ] ) # range of plant_one\n",
    "\n",
    "print( [mean(plant_one), median(plant_one) ]) # mean, median of plant_one\n",
    "\n",
    "\n",
    "print( [ min(plant_two), max(plant_two) ] ) # range of plant_two\n",
    "\n",
    "print( [mean(plant_two), median(plant_two) ]) # mean, median of plant_two"
   ]
  },
  {
   "cell_type": "code",
   "execution_count": 82,
   "metadata": {},
   "outputs": [
    {
     "name": "stdout",
     "output_type": "stream",
     "text": [
      "3.997652732344451\n",
      "5.126156121203037\n"
     ]
    }
   ],
   "source": [
    "print(data.time[data.plant == 1 ].std() ) # SD of plant_one with fraction 1/(n-1) in the sample variance\n",
    "\n",
    "print(data.time[data.plant == 2 ].std() ) #SD of plant_two with fraction 1/(n-1) in the sample variance"
   ]
  },
  {
   "cell_type": "code",
   "execution_count": 85,
   "metadata": {},
   "outputs": [
    {
     "name": "stdout",
     "output_type": "stream",
     "text": [
      "3.8964299044124995\n",
      "4.996358949274962\n"
     ]
    }
   ],
   "source": [
    "print( np.std(plant_one) ) # SD of plant_one with fraction 1/n in the sample variance\n",
    "print( np.std(plant_two) ) #SD of plant_two with fraction 1/n in the sample variance"
   ]
  },
  {
   "cell_type": "code",
   "execution_count": 36,
   "metadata": {},
   "outputs": [
    {
     "name": "stdout",
     "output_type": "stream",
     "text": [
      "3.5975\n",
      "5.405000000000001\n"
     ]
    }
   ],
   "source": [
    "print( scst.iqr(plant_one) ) #IQR\n",
    "\n",
    "print( scst.iqr(plant_two) ) #IQR"
   ]
  },
  {
   "cell_type": "code",
   "execution_count": 4,
   "metadata": {},
   "outputs": [
    {
     "data": {
      "image/png": "[encoded data removed]",
      "text/plain": [
       "<Figure size 432x288 with 1 Axes>"
      ]
     },
     "metadata": {
      "needs_background": "light"
     },
     "output_type": "display_data"
    }
   ],
   "source": [
    "# Histogram for plant_one and density plot\n",
    "inter = (max(plant_one) - min(plant_one) )/(len(plant_one)) \n",
    "l = list(np.arange(min(plant_one),max(plant_one),step = inter))\n",
    "y = scst.norm.pdf(l,loc = mean(plant_one),scale = np.std(plant_one))\n",
    "\n",
    "plt.plot(l, y)\n",
    "plt.hist(plant_one, bins=None, range=None, density=True, color='C2')\n",
    "plt.title('Histogram of Plant One') \n",
    "plt.xlabel('') \n",
    "plt.ylabel('Probability') \n",
    "plt.show()"
   ]
  },
  {
   "cell_type": "code",
   "execution_count": 5,
   "metadata": {},
   "outputs": [
    {
     "data": {
      "image/png": "[encoded data removed]",
      "text/plain": [
       "<Figure size 432x288 with 1 Axes>"
      ]
     },
     "metadata": {
      "needs_background": "light"
     },
     "output_type": "display_data"
    }
   ],
   "source": [
    "# Histogram for plant_two and density plot\n",
    "inter = (max(plant_two) - min(plant_two) )/(len(plant_two)) \n",
    "l = list(np.arange(min(plant_two),max(plant_two),step = inter))\n",
    "y = scst.norm.pdf(l,loc = mean(plant_two),scale = np.std(plant_two))\n",
    "\n",
    "plt.plot(l, y)\n",
    "plt.hist(plant_two, bins=None, range=None, density=True, color='C2')\n",
    "plt.title('Histogram of Plant One') \n",
    "plt.xlabel('') \n",
    "plt.ylabel('Probability') \n",
    "plt.show()"
   ]
  },
  {
   "cell_type": "code",
   "execution_count": 7,
   "metadata": {},
   "outputs": [
    {
     "data": {
      "image/png": "[encoded data removed]",
      "text/plain": [
       "<Figure size 720x360 with 2 Axes>"
      ]
     },
     "metadata": {
      "needs_background": "light"
     },
     "output_type": "display_data"
    }
   ],
   "source": [
    "fig, ax = plt.subplots(figsize=(10,5))\n",
    "data.hist(column=['time'], by='plant', ax=ax)\n",
    "plt.xlabel('') \n",
    "plt.show()"
   ]
  },
  {
   "cell_type": "code",
   "execution_count": 10,
   "metadata": {},
   "outputs": [
    {
     "data": {
      "image/png": "[encoded data removed]",
      "text/plain": [
       "<Figure size 1008x360 with 2 Axes>"
      ]
     },
     "metadata": {
      "needs_background": "light"
     },
     "output_type": "display_data"
    }
   ],
   "source": [
    "#Two histograms in a figure:\n",
    "\n",
    "fig = plt.figure(figsize=(14,5))\n",
    "\n",
    "ax1 = fig.add_subplot(121)\n",
    "ax2 = fig.add_subplot(122)\n",
    "inter = (max(plant_one) - min(plant_one) )/(len(plant_one)) \n",
    "l = list(np.arange(min(plant_one),max(plant_one),step = inter))\n",
    "y = scst.norm.pdf(l,loc = mean(plant_one),scale = np.std(plant_one))\n",
    "ax1.hist(plant_one, bins=None, range=None, density=True, color='C2')\n",
    "ax1.plot(l, y)\n",
    "\n",
    "inter = (max(plant_two) - min(plant_two) )/(len(plant_two)) \n",
    "l = list(np.arange(min(plant_two),max(plant_two),step = inter))\n",
    "y = scst.norm.pdf(l,loc = mean(plant_two),scale = np.std(plant_two))\n",
    "ax2.plot(l, y)\n",
    "ax2.hist(plant_two, bins=None, range=None, density=True, color='C2')\n",
    "\n",
    "ax1.set_title('Plant One')\n",
    "ax1.set_xlabel('time')\n",
    "ax1.set_ylabel('')\n",
    "\n",
    "ax2.set_title('Plant Two')\n",
    "ax2.set_xlabel('time')\n",
    "ax2.set_ylabel('')\n",
    "plt.show()\n"
   ]
  },
  {
   "cell_type": "code",
   "execution_count": 66,
   "metadata": {},
   "outputs": [
    {
     "data": {
      "text/plain": [
       "Text(0.5, 0, '')"
      ]
     },
     "execution_count": 66,
     "metadata": {},
     "output_type": "execute_result"
    },
    {
     "data": {
      "image/png": "[encoded data removed]",
      "text/plain": [
       "<Figure size 504x360 with 1 Axes>"
      ]
     },
     "metadata": {
      "needs_background": "light"
     },
     "output_type": "display_data"
    }
   ],
   "source": [
    "fig, ax = plt.subplots(figsize=(7,5))\n",
    "data.boxplot(column='time', by='plant', ax=ax)\n",
    "plt.xlabel('') "
   ]
  },
  {
   "cell_type": "code",
   "execution_count": 67,
   "metadata": {},
   "outputs": [
    {
     "name": "stdout",
     "output_type": "stream",
     "text": [
      "      A   B gender\n",
      "0    94  14      M\n",
      "1    96  19      M\n",
      "2    98  17      M\n",
      "3   100  38      M\n",
      "4   102  40      M\n",
      "5   105  26      M\n",
      "6   109  41      M\n",
      "7   110  28      M\n",
      "8   111  36      M\n",
      "9   130  66      M\n",
      "10   80  38      M\n",
      "11   84  34      M\n",
      "12   90  43      M\n",
      "13   97  43      M\n",
      "14   97  61      F\n",
      "15  112  63      F\n",
      "16  115  93      F\n",
      "17  118  74      F\n",
      "18  120  76      F\n",
      "19  120  79      F\n",
      "20   92  55      F\n",
      "21   96  53      F\n",
      "22   99  55      F\n",
      "23  101  52      F\n",
      "24  102  35      F\n",
      "25  104  46      F\n",
      "26  107  57      F\n",
      "27  110  55      F\n",
      "28  111  42      F\n",
      "29  118  81      F\n"
     ]
    }
   ],
   "source": [
    "testscores = pd.read_csv(r\"C:/Data/testscores.txt\" ,sep = \" \")\n",
    "print(testscores)"
   ]
  },
  {
   "cell_type": "code",
   "execution_count": 70,
   "metadata": {},
   "outputs": [
    {
     "data": {
      "image/png": "[encoded data removed]",
      "text/plain": [
       "<Figure size 432x288 with 1 Axes>"
      ]
     },
     "metadata": {
      "needs_background": "light"
     },
     "output_type": "display_data"
    }
   ],
   "source": [
    "groups = testscores.groupby(\"gender\")\n",
    "for name, group in groups:\n",
    "    plt.plot(group[\"A\"], group[\"B\"], marker=\"o\", linestyle=\"\", label=name)\n",
    "    \n",
    "plt.legend()\n",
    "plt.show()"
   ]
  },
  {
   "cell_type": "code",
   "execution_count": 71,
   "metadata": {},
   "outputs": [
    {
     "name": "stdout",
     "output_type": "stream",
     "text": [
      "    days\n",
      "0     54\n",
      "1      5\n",
      "2     35\n",
      "3    137\n",
      "4     31\n",
      "5     27\n",
      "6    152\n",
      "7      2\n",
      "8    123\n",
      "9     81\n",
      "10    74\n",
      "11    27\n",
      "12    11\n",
      "13    19\n",
      "14   126\n",
      "15   110\n",
      "16   110\n",
      "17    29\n",
      "18    61\n",
      "19    35\n",
      "20    94\n",
      "21    31\n",
      "22    26\n",
      "23     5\n",
      "24    12\n",
      "25     4\n",
      "26   165\n",
      "27    32\n",
      "28    29\n",
      "29    28\n",
      "30    29\n",
      "31    26\n",
      "32    25\n",
      "33     1\n",
      "34    14\n",
      "35    13\n",
      "36    13\n",
      "37    10\n",
      "38     5\n",
      "39    27\n",
      "40     4\n",
      "41    52\n",
      "42    30\n",
      "43    22\n",
      "44    36\n",
      "45    26\n",
      "46    20\n",
      "47    23\n",
      "48    33\n",
      "49    68\n"
     ]
    }
   ],
   "source": [
    "furniture = pd.read_csv(r\"C:/Data/furniture.txt\")\n",
    "print(furniture)\n",
    "\n",
    "days = furniture['days']"
   ]
  },
  {
   "cell_type": "code",
   "execution_count": 102,
   "metadata": {},
   "outputs": [
    {
     "name": "stdout",
     "output_type": "stream",
     "text": [
      "43.04\n",
      "30.7\n"
     ]
    }
   ],
   "source": [
    "print( mean(days) ) \n",
    "print( scst.trim_mean(days, 0.2) ) #trimmed mean"
   ]
  },
  {
   "cell_type": "code",
   "execution_count": 100,
   "metadata": {},
   "outputs": [],
   "source": [
    "from scipy.stats.mstats import winsorize\n",
    "\n",
    "new_days = winsorize(days, limits=[0.2, 0.2])  # to winsorize the original data (trim and replace)"
   ]
  },
  {
   "cell_type": "code",
   "execution_count": 104,
   "metadata": {},
   "outputs": [
    {
     "name": "stdout",
     "output_type": "stream",
     "text": [
      "34.62\n"
     ]
    }
   ],
   "source": [
    "print( sum(new_days)/len(new_days) )# mean of new_days"
   ]
  },
  {
   "cell_type": "code",
   "execution_count": 103,
   "metadata": {},
   "outputs": [
    {
     "data": {
      "text/plain": [
       "28.333333333333332"
      ]
     },
     "execution_count": 103,
     "metadata": {},
     "output_type": "execute_result"
    }
   ],
   "source": [
    "print(scst.iqr(days)/1.35 )# this is an estimation of sigma"
   ]
  },
  {
   "cell_type": "code",
   "execution_count": 109,
   "metadata": {},
   "outputs": [
    {
     "data": {
      "text/plain": [
       "15.5"
      ]
     },
     "execution_count": 109,
     "metadata": {},
     "output_type": "execute_result"
    }
   ],
   "source": [
    "print( scst.median_absolute_deviation(days) )# this is MAD, used to estimate sigma\n",
    "scst.median_absolute_deviation(days, scale = 1) # "
   ]
  },
  {
   "cell_type": "code",
   "execution_count": null,
   "metadata": {},
   "outputs": [],
   "source": []
  },
  {
   "cell_type": "code",
   "execution_count": null,
   "metadata": {},
   "outputs": [],
   "source": []
  }
 ],
 "metadata": {
  "kernelspec": {
   "display_name": "Python 3",
   "language": "python",
   "name": "python3"
  },
  "language_info": {
   "codemirror_mode": {
    "name": "ipython",
    "version": 3
   },
   "file_extension": ".py",
   "mimetype": "text/x-python",
   "name": "python",
   "nbconvert_exporter": "python",
   "pygments_lexer": "ipython3",
   "version": "3.7.6"
  }
 },
 "nbformat": 4,
 "nbformat_minor": 4
}
