{
 "cells": [
  {
   "cell_type": "code",
   "execution_count": 1,
   "metadata": {},
   "outputs": [],
   "source": [
    "#Tut6\n",
    "import numpy as np\n",
    "import pandas as pd\n",
    "\n",
    "import matplotlib.pyplot as plt\n",
    "import scipy.stats as scst\n",
    "\n",
    "from scipy.stats import chi2, binom\n",
    "\n"
   ]
  },
  {
   "cell_type": "code",
   "execution_count": 2,
   "metadata": {},
   "outputs": [
    {
     "name": "stdout",
     "output_type": "stream",
     "text": [
      "(12.495524272576512, 0.00040792813721524785, 1, array([[ 26.8,  13.2],\n",
      "       [643.2, 316.8]]))\n"
     ]
    }
   ],
   "source": [
    "#Q1\n",
    "test = {'Day': [16,654], 'Evening': [24,306]} # by column\n",
    "\n",
    "test = pd.DataFrame(test, columns =['Day', 'Evening'])\n",
    "\n",
    "print (scst.chi2_contingency(test, correction = True) ) \n",
    "# test statistic; p-value, dof, and expected values are produced"
   ]
  },
  {
   "cell_type": "code",
   "execution_count": 3,
   "metadata": {},
   "outputs": [],
   "source": [
    "# Q2\n",
    "from statsmodels.stats.contingency_tables import mcnemar\n",
    "# https://www.statsmodels.org/dev/generated/statsmodels.stats.contingency_tables.mcnemar.html\n",
    "# click \"source\" for the detail \n"
   ]
  },
  {
   "cell_type": "code",
   "execution_count": 7,
   "metadata": {},
   "outputs": [
    {
     "name": "stdout",
     "output_type": "stream",
     "text": [
      "[[67 28]\n",
      " [46 54]]\n",
      "pvalue      0.04813101378106178\n",
      "statistic   3.9054054054054053\n"
     ]
    }
   ],
   "source": [
    "# Males\n",
    "debateM = np.array([[67,28],[46,54]]) # males\n",
    "print(debateM)\n",
    "# can use: \n",
    "print(mcnemar(debateM, correction = True, exact = False) ) # exact = False means p-value is calculated using the approximation"
   ]
  },
  {
   "cell_type": "code",
   "execution_count": 8,
   "metadata": {},
   "outputs": [
    {
     "name": "stdout",
     "output_type": "stream",
     "text": [
      "3.9054054054054053\n",
      "0.04813101378106178\n"
     ]
    }
   ],
   "source": [
    "#calculate test statistic and p-value MANUALLY for male group\n",
    "a = debateM\n",
    "statistic = (np.absolute(a[0, 1] - a[1, 0]) - 1) ** 2 / (a[0, 1] + a[1, 0]) #with continuity correction\n",
    "print(statistic )  #same result as in R \n",
    "p_value = chi2.sf(statistic, 1)\n",
    "print(p_value)"
   ]
  },
  {
   "cell_type": "code",
   "execution_count": 9,
   "metadata": {},
   "outputs": [
    {
     "name": "stdout",
     "output_type": "stream",
     "text": [
      "[[58 42]\n",
      " [37 61]]\n",
      "pvalue      0.6526850882533246\n",
      "statistic   0.20253164556962025\n"
     ]
    }
   ],
   "source": [
    "# Females\n",
    "debateF = np.array([[58,42],[37,61]]) # females\n",
    "print(debateF)\n",
    "#print(mcnemar(debateF, correction = True) ) # the p-value is true but the statistic should not be 37\n",
    "print(mcnemar(debateF, correction = True, exact = False) )"
   ]
  },
  {
   "cell_type": "code",
   "execution_count": 32,
   "metadata": {},
   "outputs": [
    {
     "name": "stdout",
     "output_type": "stream",
     "text": [
      "0.20253164556962025\n"
     ]
    }
   ],
   "source": [
    "b = debateF\n",
    "statistic = (np.absolute(b[0, 1] - b[1, 0]) - 1) ** 2 / (b[0, 1] + b[1, 0]) #with continuity correction\n",
    "print(statistic ) # same result of test statistic as in R"
   ]
  },
  {
   "cell_type": "code",
   "execution_count": 31,
   "metadata": {},
   "outputs": [
    {
     "data": {
      "text/plain": [
       "1.1812924646610715e-09"
      ]
     },
     "execution_count": 31,
     "metadata": {},
     "output_type": "execute_result"
    }
   ],
   "source": [
    "pvalue = chi2.sf(37, 1)\n",
    "pvalue"
   ]
  },
  {
   "cell_type": "code",
   "execution_count": null,
   "metadata": {},
   "outputs": [],
   "source": []
  }
 ],
 "metadata": {
  "kernelspec": {
   "display_name": "Python 3",
   "language": "python",
   "name": "python3"
  },
  "language_info": {
   "codemirror_mode": {
    "name": "ipython",
    "version": 3
   },
   "file_extension": ".py",
   "mimetype": "text/x-python",
   "name": "python",
   "nbconvert_exporter": "python",
   "pygments_lexer": "ipython3",
   "version": "3.7.6"
  }
 },
 "nbformat": 4,
 "nbformat_minor": 4
}
