{
 "cells": [
  {
   "cell_type": "code",
   "execution_count": 1,
   "metadata": {},
   "outputs": [],
   "source": [
    "import pandas as pd\n",
    "import numpy as np\n",
    "import scipy\n",
    "import statistics as st\n",
    "from statistics import mean\n",
    "from statistics import median\n",
    "from statistics import variance\n",
    "from scipy import stats\n",
    "from scipy.stats import mstats\n",
    "import math\n",
    "import statsmodels.api as sm \n",
    "from statsmodels.formula.api import ols"
   ]
  },
  {
   "cell_type": "markdown",
   "metadata": {},
   "source": [
    "# Q1"
   ]
  },
  {
   "cell_type": "code",
   "execution_count": 2,
   "metadata": {},
   "outputs": [
    {
     "name": "stdout",
     "output_type": "stream",
     "text": [
      "    time  group\n",
      "0    8.0      1\n",
      "1    8.1      1\n",
      "2    9.2      1\n",
      "3    9.4      1\n",
      "4   11.7      1\n",
      "5    7.6      2\n",
      "6    8.2      2\n",
      "7    9.8      2\n",
      "8   10.9      2\n",
      "9   12.3      2\n",
      "10   6.0      3\n",
      "11   6.3      3\n",
      "12   7.1      3\n",
      "13   7.7      3\n",
      "14   8.9      3\n",
      "15   5.1      4\n",
      "16   5.6      4\n",
      "17   5.9      4\n",
      "18   6.7      4\n",
      "19   7.8      4\n"
     ]
    }
   ],
   "source": [
    "######################### \n",
    "data = pd.read_csv (r\"C:\\Data\\batfail.txt\", sep = \" \")\n",
    "print(data)"
   ]
  },
  {
   "cell_type": "code",
   "execution_count": 3,
   "metadata": {},
   "outputs": [
    {
     "name": "stdout",
     "output_type": "stream",
     "text": [
      "KruskalResult(statistic=11.914285714285711, pvalue=0.0076826239726703865)\n"
     ]
    }
   ],
   "source": [
    "####  KRUSKALL-WALLIS TEST\n",
    "from scipy.stats import kruskal\n",
    "kruskal = scipy.stats.kruskal(data.time[(data.group==1)],data.time[(data.group==2)],data.time[(data.group==3)],data.time[(data.group==4)])\n",
    "\n",
    "print(kruskal)"
   ]
  },
  {
   "cell_type": "code",
   "execution_count": 4,
   "metadata": {},
   "outputs": [
    {
     "name": "stdout",
     "output_type": "stream",
     "text": [
      "Test Multiple Comparison ttest_ind \n",
      "FWER=0.05 method=bonf\n",
      "alphacSidak=0.01, alphacBonf=0.008\n",
      "=============================================\n",
      "group1 group2   stat   pval  pval_corr reject\n",
      "---------------------------------------------\n",
      "     1      2 -0.4404 0.6713       1.0  False\n",
      "     1      3  2.4592 0.0394    0.2362  False\n",
      "     1      4  3.7417 0.0057    0.0341   True\n",
      "     2      3   2.544 0.0345     0.207  False\n",
      "     2      4  3.6018  0.007    0.0418   True\n",
      "     3      4  1.3952 0.2005       1.0  False\n",
      "---------------------------------------------\n"
     ]
    }
   ],
   "source": [
    "# BONFERRONI CORRECTION with 2 sample t-test for each pair\n",
    "import statsmodels.stats.multicomp as mc\n",
    "\n",
    "\n",
    "comparison = mc.MultiComparison(data.time, data.group)\n",
    "result, tbl1, tbl2 = comparison.allpairtest(stats.ttest_ind, method= \"bonf\")\n",
    "#using 2 sample t-test for each pair (which might NOT be eligible, since data are not normal)\n",
    "\n",
    "print(result)"
   ]
  },
  {
   "cell_type": "code",
   "execution_count": 5,
   "metadata": {},
   "outputs": [
    {
     "name": "stdout",
     "output_type": "stream",
     "text": [
      "Test Multiple Comparison mannwhitneyu \n",
      "FWER=0.05 method=bonf\n",
      "alphacSidak=0.01, alphacBonf=0.008\n",
      "==========================================\n",
      "group1 group2 stat  pval  pval_corr reject\n",
      "------------------------------------------\n",
      "     1      2 10.0 0.3381       1.0  False\n",
      "     1      3  2.0 0.0184    0.1101  False\n",
      "     1      4  0.0 0.0061    0.0366   True\n",
      "     2      3  3.0 0.0301    0.1803  False\n",
      "     2      4  1.0 0.0108    0.0647  False\n",
      "     3      4  6.0  0.105    0.6302  False\n",
      "------------------------------------------\n"
     ]
    }
   ],
   "source": [
    "# BONFERRONI TEST \n",
    "# using Man Whitney U test for each pair which might be better since samples are not normal\n",
    "result, tbl1, tbl2 = comparison.allpairtest(stats.mannwhitneyu, method= \"bonf\")\n",
    "print(result)"
   ]
  },
  {
   "cell_type": "markdown",
   "metadata": {},
   "source": [
    "# Q2 LINEAR REGRESSION"
   ]
  },
  {
   "cell_type": "code",
   "execution_count": 2,
   "metadata": {},
   "outputs": [
    {
     "name": "stdout",
     "output_type": "stream",
     "text": [
      "     Unnamed: 0  color  spine  width  satell  weight\n",
      "0             1      3      3   28.3       8   3.050\n",
      "1             2      4      3   22.5       0   1.550\n",
      "2             3      2      1   26.0       9   2.300\n",
      "3             4      4      3   24.8       0   2.100\n",
      "4             5      4      3   26.0       4   2.600\n",
      "..          ...    ...    ...    ...     ...     ...\n",
      "168         169      4      3   26.1       3   2.750\n",
      "169         170      4      3   29.0       4   3.275\n",
      "170         171      2      1   28.0       0   2.625\n",
      "171         172      5      3   27.0       0   2.625\n",
      "172         173      3      2   24.5       0   2.000\n",
      "\n",
      "[173 rows x 6 columns]\n"
     ]
    }
   ],
   "source": [
    "#########################  Q2\n",
    "\n",
    "data = pd.read_csv (r\"C:\\Data\\crab.csv\", sep = \",\")\n",
    "print(data)\n",
    "#spine = 1 means both good; 2 means one worn or broken; 3 means both worn or broken"
   ]
  },
  {
   "cell_type": "code",
   "execution_count": 8,
   "metadata": {},
   "outputs": [
    {
     "name": "stdout",
     "output_type": "stream",
     "text": [
      "           width    weight\n",
      "width   1.000000  0.886871\n",
      "weight  0.886871  1.000000\n"
     ]
    }
   ],
   "source": [
    "# CORREATION\n",
    "quant = ['width',  'weight']\n",
    "corr_matrix = data.loc[:,quant].corr()\n",
    "print(corr_matrix)"
   ]
  },
  {
   "cell_type": "code",
   "execution_count": 9,
   "metadata": {},
   "outputs": [
    {
     "data": {
      "image/png": "[encoded data removed]",
      "text/plain": [
       "<Figure size 432x288 with 1 Axes>"
      ]
     },
     "metadata": {
      "needs_background": "light"
     },
     "output_type": "display_data"
    }
   ],
   "source": [
    "# Q2-a: scatter plot of weight and width classified by spine:\n",
    "import matplotlib.pyplot as pyplot\n",
    "groups = data.groupby(\"spine\")\n",
    "for name, group in groups:\n",
    "    pyplot.plot(group[\"width\"], group[\"weight\"], marker=\"o\", linestyle=\"\", label=name)\n",
    "    \n",
    "pyplot.legend()\n",
    "pyplot.show()"
   ]
  },
  {
   "cell_type": "code",
   "execution_count": 3,
   "metadata": {},
   "outputs": [
    {
     "name": "stdout",
     "output_type": "stream",
     "text": [
      "[[0 0 1]\n",
      " [0 0 1]\n",
      " [1 0 0]\n",
      " [0 0 1]\n",
      " [0 0 1]\n",
      " [0 0 1]\n",
      " [1 0 0]\n",
      " [0 1 0]\n",
      " [1 0 0]\n",
      " [0 0 1]\n",
      " [0 0 1]\n",
      " [0 0 1]\n",
      " [0 0 1]\n",
      " [0 1 0]\n",
      " [1 0 0]\n",
      " [1 0 0]\n",
      " [0 0 1]\n",
      " [0 0 1]\n",
      " [0 0 1]\n",
      " [0 0 1]\n",
      " [0 1 0]\n",
      " [0 1 0]\n",
      " [1 0 0]\n",
      " [0 0 1]\n",
      " [0 0 1]\n",
      " [0 0 1]\n",
      " [0 0 1]\n",
      " [1 0 0]\n",
      " [0 0 1]\n",
      " [0 0 1]\n",
      " [1 0 0]\n",
      " [0 0 1]\n",
      " [0 1 0]\n",
      " [1 0 0]\n",
      " [1 0 0]\n",
      " [0 0 1]\n",
      " [0 0 1]\n",
      " [0 0 1]\n",
      " [0 0 1]\n",
      " [0 0 1]\n",
      " [0 0 1]\n",
      " [1 0 0]\n",
      " [1 0 0]\n",
      " [1 0 0]\n",
      " [1 0 0]\n",
      " [0 0 1]\n",
      " [0 0 1]\n",
      " [0 0 1]\n",
      " [0 0 1]\n",
      " [1 0 0]\n",
      " [0 0 1]\n",
      " [0 0 1]\n",
      " [1 0 0]\n",
      " [0 0 1]\n",
      " [1 0 0]\n",
      " [0 0 1]\n",
      " [0 0 1]\n",
      " [0 0 1]\n",
      " [1 0 0]\n",
      " [0 0 1]\n",
      " [0 0 1]\n",
      " [0 0 1]\n",
      " [1 0 0]\n",
      " [0 0 1]\n",
      " [0 0 1]\n",
      " [0 0 1]\n",
      " [0 0 1]\n",
      " [0 0 1]\n",
      " [1 0 0]\n",
      " [0 0 1]\n",
      " [0 0 1]\n",
      " [0 0 1]\n",
      " [0 0 1]\n",
      " [0 0 1]\n",
      " [0 0 1]\n",
      " [0 1 0]\n",
      " [0 1 0]\n",
      " [0 0 1]\n",
      " [0 0 1]\n",
      " [0 0 1]\n",
      " [0 1 0]\n",
      " [0 0 1]\n",
      " [0 0 1]\n",
      " [1 0 0]\n",
      " [0 0 1]\n",
      " [0 0 1]\n",
      " [0 0 1]\n",
      " [1 0 0]\n",
      " [0 0 1]\n",
      " [0 1 0]\n",
      " [1 0 0]\n",
      " [1 0 0]\n",
      " [0 0 1]\n",
      " [1 0 0]\n",
      " [0 0 1]\n",
      " [1 0 0]\n",
      " [0 0 1]\n",
      " [0 0 1]\n",
      " [0 0 1]\n",
      " [0 0 1]\n",
      " [0 0 1]\n",
      " [0 0 1]\n",
      " [0 0 1]\n",
      " [0 1 0]\n",
      " [1 0 0]\n",
      " [0 0 1]\n",
      " [0 0 1]\n",
      " [0 0 1]\n",
      " [0 0 1]\n",
      " [0 0 1]\n",
      " [0 0 1]\n",
      " [0 0 1]\n",
      " [0 0 1]\n",
      " [0 0 1]\n",
      " [0 0 1]\n",
      " [0 0 1]\n",
      " [0 0 1]\n",
      " [0 0 1]\n",
      " [0 0 1]\n",
      " [0 0 1]\n",
      " [0 0 1]\n",
      " [1 0 0]\n",
      " [0 0 1]\n",
      " [0 0 1]\n",
      " [0 0 1]\n",
      " [0 1 0]\n",
      " [0 0 1]\n",
      " [0 0 1]\n",
      " [0 0 1]\n",
      " [1 0 0]\n",
      " [0 1 0]\n",
      " [0 0 1]\n",
      " [1 0 0]\n",
      " [0 0 1]\n",
      " [0 0 1]\n",
      " [0 0 1]\n",
      " [1 0 0]\n",
      " [0 0 1]\n",
      " [0 1 0]\n",
      " [0 0 1]\n",
      " [1 0 0]\n",
      " [0 0 1]\n",
      " [0 0 1]\n",
      " [1 0 0]\n",
      " [0 0 1]\n",
      " [0 0 1]\n",
      " [1 0 0]\n",
      " [0 0 1]\n",
      " [0 0 1]\n",
      " [0 0 1]\n",
      " [0 0 1]\n",
      " [0 0 1]\n",
      " [1 0 0]\n",
      " [1 0 0]\n",
      " [0 0 1]\n",
      " [0 0 1]\n",
      " [0 0 1]\n",
      " [0 0 1]\n",
      " [0 0 1]\n",
      " [0 1 0]\n",
      " [0 0 1]\n",
      " [0 0 1]\n",
      " [0 0 1]\n",
      " [0 0 1]\n",
      " [0 0 1]\n",
      " [0 0 1]\n",
      " [0 0 1]\n",
      " [0 0 1]\n",
      " [0 0 1]\n",
      " [0 0 1]\n",
      " [1 0 0]\n",
      " [0 0 1]\n",
      " [0 1 0]]\n"
     ]
    }
   ],
   "source": [
    "data.spine = data.spine.astype('category')\n",
    "dummy = pd.get_dummies(data['spine']).values\n",
    "print(dummy)\n",
    "# first column dummy[:, 0] indicates spine = 1\n",
    "# second column indicates spine = 2\n",
    "# third column indicates spine = 3\n",
    "# compare to the column \"spine\" under print(data) to know"
   ]
  },
  {
   "cell_type": "code",
   "execution_count": 4,
   "metadata": {},
   "outputs": [],
   "source": [
    "# Q2b: not using the columns of dummy, but define the indicator by ourselves\n",
    "n = len(data.weight)\n",
    "s1 = np.zeros(n)\n",
    "s1[(data.spine == 1)] = 1 # indicator for spine = 1\n",
    "\n",
    "s2 = np.zeros(n)\n",
    "s2[(data.spine == 2)] = 1 # indicator for spine = 2\n",
    "# spince = 3 is the reference"
   ]
  },
  {
   "cell_type": "code",
   "execution_count": 5,
   "metadata": {
    "scrolled": true
   },
   "outputs": [
    {
     "name": "stdout",
     "output_type": "stream",
     "text": [
      "                            OLS Regression Results                            \n",
      "==============================================================================\n",
      "Dep. Variable:                 weight   R-squared:                       0.792\n",
      "Model:                            OLS   Adj. R-squared:                  0.788\n",
      "Method:                 Least Squares   F-statistic:                     214.2\n",
      "Date:                Fri, 05 Nov 2021   Prob (F-statistic):           2.43e-57\n",
      "Time:                        21:23:40   Log-Likelihood:                -14.124\n",
      "No. Observations:                 173   AIC:                             36.25\n",
      "Df Residuals:                     169   BIC:                             48.86\n",
      "Df Model:                           3                                         \n",
      "Covariance Type:            nonrobust                                         \n",
      "==============================================================================\n",
      "                 coef    std err          t      P>|t|      [0.025      0.975]\n",
      "------------------------------------------------------------------------------\n",
      "const         -3.9992      0.264    -15.148      0.000      -4.520      -3.478\n",
      "x1             0.2438      0.010     24.335      0.000       0.224       0.264\n",
      "x2             0.0697      0.051      1.376      0.171      -0.030       0.170\n",
      "x3             0.1251      0.074      1.684      0.094      -0.022       0.272\n",
      "==============================================================================\n",
      "Omnibus:                       47.561   Durbin-Watson:                   2.076\n",
      "Prob(Omnibus):                  0.000   Jarque-Bera (JB):              224.961\n",
      "Skew:                          -0.907   Prob(JB):                     1.41e-49\n",
      "Kurtosis:                       8.284   Cond. No.                         346.\n",
      "==============================================================================\n",
      "\n",
      "Warnings:\n",
      "[1] Standard Errors assume that the covariance matrix of the errors is correctly specified.\n"
     ]
    }
   ],
   "source": [
    "# Q2-b # Called MODEL-1\n",
    "import statsmodels.api as sm \n",
    "n = len(data.weight)\n",
    "weight = data.weight\n",
    "inter = [1]*n \n",
    "#X = np.column_stack((inter, data.width, s1, s2))\n",
    "X = np.column_stack((inter, data.width, dummy[:,0], dummy[:,1])) # same as using s1 and s2 created above\n",
    "model = sm.OLS(weight, X )\n",
    "results = model.fit()\n",
    "print(results.summary())\n",
    "#the output has x1 = width; x2 = I(spine = 1) and x3 = I(spine = 2)."
   ]
  },
  {
   "cell_type": "markdown",
   "metadata": {},
   "source": [
    "# Fitted model\n",
    "$$ \\hat{W} = -4 + 0.2438 x_1 + 0.0697x_2 + 0.1251x_3$$\n",
    "\n",
    "x1 = width\n",
    "\n",
    "x2 = dummy[:,0] = indicator for spine = 1\n",
    "\n",
    "x3 = dummy[:,1] = indicator for spine = 2"
   ]
  },
  {
   "cell_type": "code",
   "execution_count": 7,
   "metadata": {},
   "outputs": [
    {
     "name": "stdout",
     "output_type": "stream",
     "text": [
      "                            OLS Regression Results                            \n",
      "==============================================================================\n",
      "Dep. Variable:                 weight   R-squared:                       0.792\n",
      "Model:                            OLS   Adj. R-squared:                  0.788\n",
      "Method:                 Least Squares   F-statistic:                     214.2\n",
      "Date:                Thu, 28 Oct 2021   Prob (F-statistic):           2.43e-57\n",
      "Time:                        12:22:43   Log-Likelihood:                -14.124\n",
      "No. Observations:                 173   AIC:                             36.25\n",
      "Df Residuals:                     169   BIC:                             48.86\n",
      "Df Model:                           3                                         \n",
      "Covariance Type:            nonrobust                                         \n",
      "==============================================================================\n",
      "                 coef    std err          t      P>|t|      [0.025      0.975]\n",
      "------------------------------------------------------------------------------\n",
      "const         -3.9296      0.275    -14.286      0.000      -4.473      -3.387\n",
      "x1             0.2438      0.010     24.335      0.000       0.224       0.264\n",
      "x2             0.0554      0.085      0.654      0.514      -0.112       0.223\n",
      "x3            -0.0697      0.051     -1.376      0.171      -0.170       0.030\n",
      "==============================================================================\n",
      "Omnibus:                       47.561   Durbin-Watson:                   2.076\n",
      "Prob(Omnibus):                  0.000   Jarque-Bera (JB):              224.961\n",
      "Skew:                          -0.907   Prob(JB):                     1.41e-49\n",
      "Kurtosis:                       8.284   Cond. No.                         363.\n",
      "==============================================================================\n",
      "\n",
      "Warnings:\n",
      "[1] Standard Errors assume that the covariance matrix of the errors is correctly specified.\n"
     ]
    }
   ],
   "source": [
    "# MODEL-2 IF YOU WANT TO GET THE SAME ANSWER AS IN R: USING SPINE=2 AND SPINE=3\n",
    "n = len(data.weight)\n",
    "weight = data.weight\n",
    "inter = [1]*n \n",
    "X = np.column_stack((inter, data.width, dummy[:,1], dummy[:,2])) # USING THE 2ND AND 3RD COLUMN OF DUMMY (FOR SPINE = 2 AND 3)\n",
    "model = sm.OLS(weight, X )\n",
    "results = model.fit()\n",
    "print(results.summary())\n",
    "#the output has x1 = width; x2 = I(spine = 2) and x3 = I(spine =3).\n"
   ]
  },
  {
   "cell_type": "code",
   "execution_count": null,
   "metadata": {},
   "outputs": [],
   "source": [
    "# RESULT OF COEFFICIENTS TABLE FROM R:\n",
    "(Intercept) -3.92955    0.27506 -14.286   <2e-16 ***\n",
    "width        0.24376    0.01002  24.335   <2e-16 ***\n",
    "spine2       0.05544    0.08475   0.654    0.514    \n",
    "spine3      -0.06969    0.05065  -1.376    0.171    "
   ]
  },
  {
   "cell_type": "code",
   "execution_count": null,
   "metadata": {},
   "outputs": [],
   "source": [
    "# width: test statistic = 24.335, ~ t_DF, DF = 173 - 4 = 169. p-value < 0.0001"
   ]
  },
  {
   "cell_type": "code",
   "execution_count": 6,
   "metadata": {},
   "outputs": [
    {
     "name": "stdout",
     "output_type": "stream",
     "text": [
      "             df     sum_sq    mean_sq           F        PR(>F)\n",
      "spine       2.0   3.554916   1.777458   25.188561  2.665377e-10\n",
      "width       1.0  41.788210  41.788210  592.185517  4.089090e-57\n",
      "Residual  169.0  11.925667   0.070566         NaN           NaN\n"
     ]
    }
   ],
   "source": [
    "from statsmodels.formula.api import ols\n",
    "mod1 = ols('weight ~ width + spine', data=data).fit()\n",
    "anova1 = sm.stats.anova_lm(mod1, typ=1) # change typ = 1; \n",
    "# this is the same as the anova table of model weight ~ spine + width in R\n",
    "# categorical variable(s) is/are always pushed to the first row(s)\n",
    "print(anova1)"
   ]
  },
  {
   "cell_type": "code",
   "execution_count": 7,
   "metadata": {},
   "outputs": [
    {
     "name": "stdout",
     "output_type": "stream",
     "text": [
      "             sum_sq     df           F        PR(>F)\n",
      "spine      0.298873    2.0    2.117679  1.234920e-01\n",
      "width     41.788210    1.0  592.185517  4.089090e-57\n",
      "Residual  11.925667  169.0         NaN           NaN\n"
     ]
    }
   ],
   "source": [
    "anova2 = sm.stats.anova_lm(mod1, typ=2) # change typ = 2; \n",
    "# this is to test the significance of of a variable (which even might has >=2 coef) WITH the presence of ALL other variables\n",
    "# categorical variable appears in the first row.\n",
    "print(anova2)"
   ]
  },
  {
   "cell_type": "code",
   "execution_count": null,
   "metadata": {},
   "outputs": [],
   "source": [
    "#Q2c: p-value for variable width = x1 in the output is <0.0001 (from MODEL-1 or from table anova2) hence it is significant."
   ]
  },
  {
   "cell_type": "code",
   "execution_count": null,
   "metadata": {},
   "outputs": [],
   "source": [
    "#Q2d: 95% CI for coefficient of width is given in the output of MODEl-1 above: (0.224, 0.264)"
   ]
  },
  {
   "cell_type": "code",
   "execution_count": null,
   "metadata": {},
   "outputs": [],
   "source": [
    "#Q2e: from output of MODEL-1, R-square = 0.792"
   ]
  },
  {
   "cell_type": "code",
   "execution_count": 18,
   "metadata": {},
   "outputs": [
    {
     "name": "stdout",
     "output_type": "stream",
     "text": [
      "0.07056607821402083\n",
      "0.07056607821402083\n"
     ]
    }
   ],
   "source": [
    "#Q2f: the Mean Square Residuals MS_res:\n",
    "sigma_square = results.scale # this is used to estimate sigma^2.\n",
    "print(sigma_square)\n",
    "# Or it coud be derived by:\n",
    "print(results.mse_resid) "
   ]
  },
  {
   "cell_type": "code",
   "execution_count": 12,
   "metadata": {},
   "outputs": [],
   "source": [
    "#Q2g standardized residuals:\n",
    "analysis = results.get_influence() \n",
    "#the standardized residuals:\n",
    "SR = analysis.resid_studentized_internal #this is the standardized residuals of the model above.\n"
   ]
  },
  {
   "cell_type": "code",
   "execution_count": 14,
   "metadata": {},
   "outputs": [
    {
     "data": {
      "image/png": "[encoded data removed]",
      "text/plain": [
       "<Figure size 432x288 with 1 Axes>"
      ]
     },
     "metadata": {
      "needs_background": "light"
     },
     "output_type": "display_data"
    }
   ],
   "source": [
    "#Q2g: QQ plot\n",
    "import matplotlib.pyplot as pyplot\n",
    "scipy.stats.probplot(SR, dist=\"norm\", plot=pyplot)\n",
    "pyplot.title('QQ Plot') \n",
    "pyplot.show()"
   ]
  },
  {
   "cell_type": "code",
   "execution_count": 15,
   "metadata": {},
   "outputs": [
    {
     "data": {
      "image/png": "[encoded data removed]",
      "text/plain": [
       "<Figure size 432x288 with 1 Axes>"
      ]
     },
     "metadata": {
      "needs_background": "light"
     },
     "output_type": "display_data"
    }
   ],
   "source": [
    "#Q2g:  SR vs fitted values:\n",
    "fitted = results.fittedvalues\n",
    "\n",
    "import matplotlib.pyplot as pyplot\n",
    "pyplot.scatter(fitted, SR,color='b')  \n",
    "pyplot.xlabel('Fitted Values') \n",
    "pyplot.ylabel('Standardized Residuals') \n",
    "pyplot.hlines(0, xmin = min(fitted), xmax = max(fitted) )\n",
    "pyplot.title('') \n",
    "pyplot.show() "
   ]
  },
  {
   "cell_type": "code",
   "execution_count": null,
   "metadata": {},
   "outputs": [],
   "source": [
    "#Q2h Assumptions:\n",
    "# Normaliy assumption: From the qq plot of SR, it has both right tail and left tail\n",
    "# are heavier than normal, due to some outliers. Hence, normality assmption might be violated lightly.\n",
    "# SR vs fitted: there are 4 outliers obviously with large |SR|.\n",
    "# the residuals might have equal variance."
   ]
  },
  {
   "cell_type": "code",
   "execution_count": 16,
   "metadata": {},
   "outputs": [
    {
     "name": "stdout",
     "output_type": "stream",
     "text": [
      "[2.6520425]\n"
     ]
    }
   ],
   "source": [
    "#Q2i: \n",
    "newpoint = [1,27,1,0]\n",
    "y =  results.predict(newpoint) # predict out of sample\n",
    "print(y)"
   ]
  },
  {
   "cell_type": "code",
   "execution_count": 17,
   "metadata": {},
   "outputs": [
    {
     "data": {
      "text/html": [
       "<div>\n",
       "<style scoped>\n",
       "    .dataframe tbody tr th:only-of-type {\n",
       "        vertical-align: middle;\n",
       "    }\n",
       "\n",
       "    .dataframe tbody tr th {\n",
       "        vertical-align: top;\n",
       "    }\n",
       "\n",
       "    .dataframe thead th {\n",
       "        text-align: right;\n",
       "    }\n",
       "</style>\n",
       "<table border=\"1\" class=\"dataframe\">\n",
       "  <thead>\n",
       "    <tr style=\"text-align: right;\">\n",
       "      <th></th>\n",
       "      <th>mean</th>\n",
       "      <th>mean_se</th>\n",
       "      <th>mean_ci_lower</th>\n",
       "      <th>mean_ci_upper</th>\n",
       "      <th>obs_ci_lower</th>\n",
       "      <th>obs_ci_upper</th>\n",
       "    </tr>\n",
       "  </thead>\n",
       "  <tbody>\n",
       "    <tr>\n",
       "      <th>0</th>\n",
       "      <td>2.652043</td>\n",
       "      <td>0.043686</td>\n",
       "      <td>2.565803</td>\n",
       "      <td>2.738282</td>\n",
       "      <td>2.120593</td>\n",
       "      <td>3.183492</td>\n",
       "    </tr>\n",
       "  </tbody>\n",
       "</table>\n",
       "</div>"
      ],
      "text/plain": [
       "       mean   mean_se  mean_ci_lower  mean_ci_upper  obs_ci_lower  \\\n",
       "0  2.652043  0.043686       2.565803       2.738282      2.120593   \n",
       "\n",
       "   obs_ci_upper  \n",
       "0      3.183492  "
      ]
     },
     "execution_count": 17,
     "metadata": {},
     "output_type": "execute_result"
    }
   ],
   "source": [
    "#Q2i: to get the confidence interval for the predicted mean weight above:\n",
    "predictions = results.get_prediction(newpoint)\n",
    "\n",
    "predictions.summary_frame(alpha=0.05) \n",
    "#The 95% CI for the mean weight is mean_ci_lower and mean_ci_upper: (2.565803   ,    2.738282)"
   ]
  },
  {
   "cell_type": "code",
   "execution_count": null,
   "metadata": {},
   "outputs": [],
   "source": []
  }
 ],
 "metadata": {
  "kernelspec": {
   "display_name": "Python 3",
   "language": "python",
   "name": "python3"
  },
  "language_info": {
   "codemirror_mode": {
    "name": "ipython",
    "version": 3
   },
   "file_extension": ".py",
   "mimetype": "text/x-python",
   "name": "python",
   "nbconvert_exporter": "python",
   "pygments_lexer": "ipython3",
   "version": "3.7.6"
  }
 },
 "nbformat": 4,
 "nbformat_minor": 4
}
