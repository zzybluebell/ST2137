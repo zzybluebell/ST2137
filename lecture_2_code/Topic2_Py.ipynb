{
 "cells": [
  {
   "cell_type": "code",
   "execution_count": 2,
   "metadata": {
    "scrolled": true
   },
   "outputs": [
    {
     "name": "stdout",
     "output_type": "stream",
     "text": [
      "beginner\n",
      "12345\n",
      "Daisy\n"
     ]
    }
   ],
   "source": [
    "print('beginner')\n",
    "print(12345)\n",
    "\n",
    "x = 'Daisy'\n",
    "print(x)"
   ]
  },
  {
   "cell_type": "code",
   "execution_count": 3,
   "metadata": {},
   "outputs": [
    {
     "name": "stdout",
     "output_type": "stream",
     "text": [
      "[1, 2, 3, 4, 5, 6, 7, 8, 9, 10]\n"
     ]
    }
   ],
   "source": [
    "#To create a vector:\n",
    "x = [1,2,3,4,5,6,7,8,9,10]\n",
    "print(x)"
   ]
  },
  {
   "cell_type": "code",
   "execution_count": 2,
   "metadata": {},
   "outputs": [
    {
     "name": "stdout",
     "output_type": "stream",
     "text": [
      "[1, 2, 3, 4, 5, 6, 7, 8, 9, 10, 1, 2, 3, 4, 5, 6, 7, 8, 9, 10]\n"
     ]
    }
   ],
   "source": [
    "print(x*2) #this will print vector 'x' two times"
   ]
  },
  {
   "cell_type": "code",
   "execution_count": 4,
   "metadata": {},
   "outputs": [
    {
     "name": "stdout",
     "output_type": "stream",
     "text": [
      "2\n"
     ]
    }
   ],
   "source": [
    "print(x[1])"
   ]
  },
  {
   "cell_type": "code",
   "execution_count": 4,
   "metadata": {},
   "outputs": [
    {
     "name": "stdout",
     "output_type": "stream",
     "text": [
      "['Daisy', 'Julie', 'Sophie']\n"
     ]
    }
   ],
   "source": [
    "name = ['Daisy', 'Julie', 'Sophie']\n",
    "print(name)"
   ]
  },
  {
   "cell_type": "code",
   "execution_count": 5,
   "metadata": {},
   "outputs": [
    {
     "name": "stdout",
     "output_type": "stream",
     "text": [
      "[ 0  1  2  3  4  5  6  7  8  9 10 11 12 13 14 15 16 17 18 19]\n"
     ]
    }
   ],
   "source": [
    "import numpy as np\n",
    "\n",
    "array = np.arange(20)\n",
    "print(array)\n"
   ]
  },
  {
   "cell_type": "code",
   "execution_count": 6,
   "metadata": {},
   "outputs": [
    {
     "name": "stdout",
     "output_type": "stream",
     "text": [
      "[ 2  4  6  8 10 12 14 16 18 20]\n",
      "[ 0  2  4  6  8 10 12 14 16 18 20 22 24 26 28 30 32 34 36 38]\n"
     ]
    }
   ],
   "source": [
    "x = [1,2,3,4,5,6,7,8,9,10]\n",
    "x = np.array(x)  # this will turn the vector 'x' above to a numeric vector.\n",
    "print(x*2)  # we'll get [ 2  4  6  8 10 12 14 16 18 20]\n",
    "\n",
    "\n",
    "array = np.arange(20) # this will start from 0 and will not include number 20.\n",
    "print(array*2)"
   ]
  },
  {
   "cell_type": "code",
   "execution_count": 7,
   "metadata": {},
   "outputs": [
    {
     "name": "stdout",
     "output_type": "stream",
     "text": [
      "[0.5 1.  1.5 2.  2.5 3. ]\n",
      "[ 1  4  9 16 25 36]\n"
     ]
    }
   ],
   "source": [
    "y = [1,2,3,4,5,6]\n",
    "\n",
    "import pandas as pd\n",
    "\n",
    "y = pd.to_numeric(y)\n",
    "print(y/2)\n",
    "print(y**2)"
   ]
  },
  {
   "cell_type": "code",
   "execution_count": 6,
   "metadata": {},
   "outputs": [
    {
     "name": "stdout",
     "output_type": "stream",
     "text": [
      "   X\n",
      "0  1\n",
      "1  2\n",
      "2  3\n",
      "3  4\n",
      "4  5\n",
      "5  6\n",
      "     X\n",
      "0  0.5\n",
      "1  1.0\n",
      "2  1.5\n",
      "3  2.0\n",
      "4  2.5\n",
      "5  3.0\n"
     ]
    }
   ],
   "source": [
    "#import pandas as pd\n",
    "\n",
    "data = {'X': [1,2,3,4,5,6]}\n",
    "\n",
    "df = pd.DataFrame(data, columns =['X'])\n",
    "\n",
    "print(df)\n",
    "print(df/2)  # this will have the form of a column.\n"
   ]
  },
  {
   "cell_type": "code",
   "execution_count": 1,
   "metadata": {
    "scrolled": true
   },
   "outputs": [
    {
     "name": "stdout",
     "output_type": "stream",
     "text": [
      "   NewX  NewY\n",
      "0     1     6\n",
      "1     2     5\n",
      "2     3     4\n",
      "3     4     3\n",
      "4     5     2\n",
      "5     6     1\n"
     ]
    }
   ],
   "source": [
    "import pandas as pd\n",
    "data = {'X': [1,2,3,4,5,6], 'Y': [6,5,4,3,2,1]}\n",
    "\n",
    "df = pd.DataFrame(data, columns =['X', 'Y'])\n",
    "#print(df**2)  # square of 'data', and this has 2 columns\n",
    "#print(X)\n",
    "#list(df)\n",
    "\n",
    "#df_new = df.rename({'X': 'NewX', 'Y': 'NewY'}, axis='columns') \n",
    "df_new = df.rename({'X': 'NewX', 'Y': 'NewY'}, axis=1) \n",
    "print(df_new)\n",
    "\n"
   ]
  },
  {
   "cell_type": "code",
   "execution_count": 3,
   "metadata": {},
   "outputs": [
    {
     "name": "stdout",
     "output_type": "stream",
     "text": [
      "[[ 1  2  3  4  5]\n",
      " [ 6  7  8  9 10]]\n"
     ]
    }
   ],
   "source": [
    "import numpy as np\n",
    "array1 = np.array([1,2,3,4,5])\n",
    "array2 = np.array([6,7,8,9,10])\n",
    "matrix = np.array([array1,array2])\n",
    "print(matrix)"
   ]
  },
  {
   "cell_type": "code",
   "execution_count": 9,
   "metadata": {},
   "outputs": [
    {
     "name": "stdout",
     "output_type": "stream",
     "text": [
      "[[1 2 3]\n",
      " [4 5 6]\n",
      " [7 8 9]]\n"
     ]
    }
   ],
   "source": [
    "row1 = [1,2,3]\n",
    "row2 = [4,5,6]\n",
    "row3 = [7,8,9]\n",
    "\n",
    "matrix2 = np.asmatrix([row1,row2,row3]) # make as a matrix\n",
    "print(matrix2)"
   ]
  },
  {
   "cell_type": "code",
   "execution_count": 10,
   "metadata": {},
   "outputs": [
    {
     "name": "stdout",
     "output_type": "stream",
     "text": [
      "[[ 2  4  6]\n",
      " [ 8 10 12]\n",
      " [14 16 18]]\n"
     ]
    }
   ],
   "source": [
    "print(matrix2*2)"
   ]
  },
  {
   "cell_type": "code",
   "execution_count": 10,
   "metadata": {},
   "outputs": [
    {
     "name": "stdout",
     "output_type": "stream",
     "text": [
      "(3, 3)\n"
     ]
    }
   ],
   "source": [
    "print(matrix2.shape) #dimension"
   ]
  },
  {
   "cell_type": "code",
   "execution_count": 12,
   "metadata": {},
   "outputs": [
    {
     "name": "stdout",
     "output_type": "stream",
     "text": [
      "[[1 4 7]\n",
      " [2 5 8]\n",
      " [3 6 9]]\n"
     ]
    }
   ],
   "source": [
    "print(matrix2.T)  #transpose\n"
   ]
  },
  {
   "cell_type": "code",
   "execution_count": 11,
   "metadata": {
    "scrolled": true
   },
   "outputs": [
    {
     "name": "stdout",
     "output_type": "stream",
     "text": [
      "[[ 3.15251974e+15 -6.30503948e+15  3.15251974e+15]\n",
      " [-6.30503948e+15  1.26100790e+16 -6.30503948e+15]\n",
      " [ 3.15251974e+15 -6.30503948e+15  3.15251974e+15]]\n"
     ]
    }
   ],
   "source": [
    "print(matrix2.I)  # Inverse"
   ]
  },
  {
   "cell_type": "code",
   "execution_count": 10,
   "metadata": {},
   "outputs": [
    {
     "name": "stdout",
     "output_type": "stream",
     "text": [
      "[[ 1  2  3  4  5]\n",
      " [ 6  7  8  9 10]\n",
      " [ 1  2  3  4  5]]\n"
     ]
    }
   ],
   "source": [
    "print(np.vstack((matrix, array1)) ) # 沿着竖值的方向堆起来"
   ]
  },
  {
   "cell_type": "code",
   "execution_count": 5,
   "metadata": {
    "scrolled": true
   },
   "outputs": [
    {
     "name": "stdout",
     "output_type": "stream",
     "text": [
      "[[ 1  6]\n",
      " [ 2  7]\n",
      " [ 3  8]\n",
      " [ 4  9]\n",
      " [ 5 10]]\n"
     ]
    }
   ],
   "source": [
    "print(np.column_stack((array1, array2)) )"
   ]
  },
  {
   "cell_type": "code",
   "execution_count": 24,
   "metadata": {},
   "outputs": [
    {
     "name": "stdout",
     "output_type": "stream",
     "text": [
      "    Observation  Delivery Time, y  Number of Cases, x1  Distance, x2 (ft)\n",
      "0             1             16.68                    7                560\n",
      "1             2             11.50                    3                220\n",
      "2             3             12.03                    3                340\n",
      "3             4             14.88                    4                 80\n",
      "4             5             13.75                    6                150\n",
      "5             6             18.11                    7                330\n",
      "6             7              8.00                    2                110\n",
      "7             8             17.83                    7                210\n",
      "8             9             79.24                   30               1460\n",
      "9            10             21.50                    5                605\n",
      "10           11             40.33                   16                688\n",
      "11           12             21.00                   10                215\n",
      "12           13             13.50                    4                255\n",
      "13           14             19.75                    6                462\n",
      "14           15             24.00                    9                448\n",
      "15           16             29.00                   10                776\n",
      "16           17             15.35                    6                200\n",
      "17           18             19.00                    7                132\n",
      "18           19              9.50                    3                 36\n",
      "19           20             35.10                   17                770\n",
      "20           21             17.90                   10                140\n",
      "21           22             52.32                   26                810\n",
      "22           23             18.75                    9                450\n",
      "23           24             19.83                    8                635\n",
      "24           25             10.75                    4                150\n"
     ]
    }
   ],
   "source": [
    "############################    IMPORTING DATA:\n",
    "###############  CSV DATA\n",
    "\n",
    "import pandas as pd\n",
    "data = pd.read_csv(r\"/Users/zzy/Desktop/ST2137/Data/Delivery_Time.csv\")\n",
    "print (data)    # the given names of the columns are too long\n",
    "\n"
   ]
  },
  {
   "cell_type": "code",
   "execution_count": 25,
   "metadata": {},
   "outputs": [
    {
     "name": "stdout",
     "output_type": "stream",
     "text": [
      "    Obs   time  cases  distance\n",
      "0     1  16.68      7       560\n",
      "1     2  11.50      3       220\n",
      "2     3  12.03      3       340\n",
      "3     4  14.88      4        80\n",
      "4     5  13.75      6       150\n",
      "5     6  18.11      7       330\n",
      "6     7   8.00      2       110\n",
      "7     8  17.83      7       210\n",
      "8     9  79.24     30      1460\n",
      "9    10  21.50      5       605\n",
      "10   11  40.33     16       688\n",
      "11   12  21.00     10       215\n",
      "12   13  13.50      4       255\n",
      "13   14  19.75      6       462\n",
      "14   15  24.00      9       448\n",
      "15   16  29.00     10       776\n",
      "16   17  15.35      6       200\n",
      "17   18  19.00      7       132\n",
      "18   19   9.50      3        36\n",
      "19   20  35.10     17       770\n",
      "20   21  17.90     10       140\n",
      "21   22  52.32     26       810\n",
      "22   23  18.75      9       450\n",
      "23   24  19.83      8       635\n",
      "24   25  10.75      4       150\n"
     ]
    }
   ],
   "source": [
    "\n",
    "data.columns = ['Obs', 'time', 'cases', 'distance'] # changing the columns' name\n",
    "\n",
    "print (data)  #the original names have been changed"
   ]
  },
  {
   "cell_type": "code",
   "execution_count": 26,
   "metadata": {
    "scrolled": true
   },
   "outputs": [
    {
     "name": "stdout",
     "output_type": "stream",
     "text": [
      "   Subject Gender  CA1  CA2 HW  CA3\n",
      "0       10      M   80   84  A    1\n",
      "1        7      M   85   89  A    2\n",
      "2        4      F   90   86  B    3\n",
      "3       20      M   82   85  B    4\n",
      "4       25      F   94   94  A    5\n",
      "5       14      F   88   84  C    6\n"
     ]
    }
   ],
   "source": [
    "############################    IMPORTING DATA:\n",
    "\n",
    "\n",
    "\n",
    "###################3  ANOTHER DATA (TEXT data):\n",
    "\n",
    "text = pd.read_csv(r\"/Users/zzy/Desktop/ST2137/Data/ex_1_name.txt\", header = 0, sep = \" \")\n",
    "#print(text)\n",
    "#print(text['CA2'])\n",
    "CA3 = [1,2,3,4,5,6] #creating a new vector\n",
    "text['CA3'] = CA3 # adding the new vector to the existing data as a new column\n",
    "print(text)\n"
   ]
  },
  {
   "cell_type": "code",
   "execution_count": 31,
   "metadata": {},
   "outputs": [
    {
     "name": "stdout",
     "output_type": "stream",
     "text": [
      "0    106\n",
      "1    112\n",
      "2    119\n",
      "3    102\n",
      "4    125\n",
      "5    101\n",
      "Name: IQ, dtype: int64\n",
      "   Subject Gender  CA1  CA2 HW   IQ\n",
      "0       10      M   80   84  A  106\n",
      "1        7      M   85   89  A  112\n",
      "2        4      F   90   86  B  119\n",
      "3       20      M   82   85  B  102\n",
      "4       25      F   94   94  A  125\n",
      "5       14      F   88   84  C  101\n"
     ]
    }
   ],
   "source": [
    "text = pd.read_csv(r\"/Users/zzy/Desktop/ST2137/Data/ex_1_name.txt\", header = 0, sep = \" \")\n",
    "#print(text)\n",
    "new= pd.read_csv(r\"/Users/zzy/Desktop/ST2137/Data/ex_1_IQ.txt\", header = 0, sep = \" \")\n",
    "print(new['IQ'])\n",
    "\n",
    "frames = [text, new['IQ']]\n",
    "#frames = [text, new]  #this will add the 2 columns in ''new'' to the ''text'' dataframe\n",
    "result = pd.concat(frames, axis=1)\n",
    "print(result)"
   ]
  },
  {
   "cell_type": "code",
   "execution_count": 4,
   "metadata": {},
   "outputs": [
    {
     "name": "stdout",
     "output_type": "stream",
     "text": [
      "   Subject  CA2\n",
      "0       10   84\n",
      "1        7   89\n",
      "2        4   86\n",
      "3       20   85\n",
      "4       25   94\n",
      "5       14   84\n"
     ]
    },
    {
     "ename": "NameError",
     "evalue": "name 'CA2' is not defined",
     "output_type": "error",
     "traceback": [
      "\u001b[1;31m---------------------------------------------------------------------------\u001b[0m",
      "\u001b[1;31mNameError\u001b[0m                                 Traceback (most recent call last)",
      "\u001b[1;32m<ipython-input-4-82fb07d07b58>\u001b[0m in \u001b[0;36m<module>\u001b[1;34m\u001b[0m\n\u001b[0;32m      2\u001b[0m \u001b[0mprint\u001b[0m\u001b[1;33m(\u001b[0m\u001b[0mdata_text\u001b[0m\u001b[1;33m)\u001b[0m\u001b[1;33m\u001b[0m\u001b[1;33m\u001b[0m\u001b[0m\n\u001b[0;32m      3\u001b[0m \u001b[1;31m#\u001b[0m\u001b[1;33m\u001b[0m\u001b[1;33m\u001b[0m\u001b[1;33m\u001b[0m\u001b[0m\n\u001b[1;32m----> 4\u001b[1;33m \u001b[0mprint\u001b[0m\u001b[1;33m(\u001b[0m\u001b[0mCA2\u001b[0m\u001b[1;33m)\u001b[0m  \u001b[1;31m#: this will not work since Python will not know what 'CA2' is.\u001b[0m\u001b[1;33m\u001b[0m\u001b[1;33m\u001b[0m\u001b[0m\n\u001b[0m\u001b[0;32m      5\u001b[0m \u001b[1;33m\u001b[0m\u001b[0m\n",
      "\u001b[1;31mNameError\u001b[0m: name 'CA2' is not defined"
     ]
    }
   ],
   "source": [
    "data_text = pd.DataFrame(text, columns = ['Subject', 'CA2'])  #this helps to take out some columns in the data.\n",
    "print(data_text)\n",
    "#\n",
    "print(CA2)  #: this will not work since Python will not know what 'CA2' is.\n",
    "\n"
   ]
  },
  {
   "cell_type": "code",
   "execution_count": 16,
   "metadata": {},
   "outputs": [
    {
     "name": "stdout",
     "output_type": "stream",
     "text": [
      "0    84\n",
      "1    89\n",
      "2    86\n",
      "3    85\n",
      "4    94\n",
      "5    84\n",
      "Name: CA2, dtype: int64\n"
     ]
    }
   ],
   "source": [
    "def attach(df):\n",
    "    for col in df.columns:\n",
    "        globals()[col] = df[col]\n",
    "\n",
    "attach(data_text)\n",
    "print(CA2)\n"
   ]
  },
  {
   "cell_type": "code",
   "execution_count": 5,
   "metadata": {},
   "outputs": [
    {
     "name": "stdout",
     "output_type": "stream",
     "text": [
      "    Obs   time  cases  distance\n",
      "0     1  16.68      7       560\n",
      "1     2  11.50      3       220\n",
      "2     3  12.03      3       340\n",
      "3     4  14.88      4        80\n",
      "4     5  13.75      6       150\n",
      "5     6  18.11      7       330\n",
      "6     7   8.00      2       110\n",
      "7     8  17.83      7       210\n",
      "8     9  79.24     30      1460\n",
      "9    10  21.50      5       605\n",
      "10   11  40.33     16       688\n",
      "11   12  21.00     10       215\n",
      "12   13  13.50      4       255\n",
      "13   14  19.75      6       462\n",
      "14   15  24.00      9       448\n",
      "15   16  29.00     10       776\n",
      "16   17  15.35      6       200\n",
      "17   18  19.00      7       132\n",
      "18   19   9.50      3        36\n",
      "19   20  35.10     17       770\n",
      "20   21  17.90     10       140\n",
      "21   22  52.32     26       810\n",
      "22   23  18.75      9       450\n",
      "23   24  19.83      8       635\n",
      "24   25  10.75      4       150\n"
     ]
    }
   ],
   "source": [
    "print(data)\n"
   ]
  },
  {
   "cell_type": "code",
   "execution_count": 17,
   "metadata": {},
   "outputs": [
    {
     "name": "stdout",
     "output_type": "stream",
     "text": [
      "0      1\n",
      "1      2\n",
      "2      3\n",
      "3      4\n",
      "4      5\n",
      "5      6\n",
      "6      7\n",
      "7      8\n",
      "8      9\n",
      "9     10\n",
      "10    11\n",
      "11    12\n",
      "12    13\n",
      "13    14\n",
      "14    15\n",
      "15    16\n",
      "16    17\n",
      "17    18\n",
      "18    19\n",
      "19    20\n",
      "20    21\n",
      "21    22\n",
      "22    23\n",
      "23    24\n",
      "24    25\n",
      "Name: Obs, dtype: int64\n"
     ]
    }
   ],
   "source": [
    "print(data['Obs'])\n"
   ]
  },
  {
   "cell_type": "code",
   "execution_count": 18,
   "metadata": {},
   "outputs": [],
   "source": [
    "data = pd.DataFrame(data) \n",
    "def attach(df):\n",
    "    for col in df.columns:\n",
    "        globals()[col] = df[col]\n",
    "\n",
    "attach(data)\n"
   ]
  },
  {
   "cell_type": "code",
   "execution_count": 19,
   "metadata": {},
   "outputs": [
    {
     "name": "stdout",
     "output_type": "stream",
     "text": [
      "0      7\n",
      "1      3\n",
      "2      3\n",
      "3      4\n",
      "4      6\n",
      "5      7\n",
      "6      2\n",
      "7      7\n",
      "8     30\n",
      "9      5\n",
      "10    16\n",
      "11    10\n",
      "12     4\n",
      "13     6\n",
      "14     9\n",
      "15    10\n",
      "16     6\n",
      "17     7\n",
      "18     3\n",
      "19    17\n",
      "20    10\n",
      "21    26\n",
      "22     9\n",
      "23     8\n",
      "24     4\n",
      "Name: cases, dtype: int64\n"
     ]
    }
   ],
   "source": [
    "print(cases)"
   ]
  },
  {
   "cell_type": "code",
   "execution_count": 20,
   "metadata": {},
   "outputs": [
    {
     "data": {
      "text/plain": [
       "'C:\\\\Users\\\\65979'"
      ]
     },
     "execution_count": 20,
     "metadata": {},
     "output_type": "execute_result"
    }
   ],
   "source": [
    "import os\n",
    "os.getcwd()\n"
   ]
  },
  {
   "cell_type": "code",
   "execution_count": 21,
   "metadata": {},
   "outputs": [
    {
     "name": "stdout",
     "output_type": "stream",
     "text": [
      "Subject Gender CA1 CA2 HW\n",
      "10 M 80 84 A\n",
      "7 M 85 89 A\n",
      "4 F 90 86 B\n",
      "20 M 82 85 B\n",
      "25 F 94 94 A\n",
      "14 F 88 84 C\n"
     ]
    },
    {
     "ename": "TypeError",
     "evalue": "string indices must be integers",
     "output_type": "error",
     "traceback": [
      "\u001b[1;31m---------------------------------------------------------------------------\u001b[0m",
      "\u001b[1;31mTypeError\u001b[0m                                 Traceback (most recent call last)",
      "\u001b[1;32m<ipython-input-21-0a81e6c8a89a>\u001b[0m in \u001b[0;36m<module>\u001b[1;34m\u001b[0m\n\u001b[0;32m      2\u001b[0m \u001b[0mf\u001b[0m \u001b[1;33m=\u001b[0m \u001b[0mf\u001b[0m\u001b[1;33m.\u001b[0m\u001b[0mread\u001b[0m\u001b[1;33m(\u001b[0m\u001b[1;33m)\u001b[0m\u001b[1;33m\u001b[0m\u001b[1;33m\u001b[0m\u001b[0m\n\u001b[0;32m      3\u001b[0m \u001b[0mprint\u001b[0m\u001b[1;33m(\u001b[0m\u001b[0mf\u001b[0m\u001b[1;33m)\u001b[0m\u001b[1;33m\u001b[0m\u001b[1;33m\u001b[0m\u001b[0m\n\u001b[1;32m----> 4\u001b[1;33m \u001b[0mprint\u001b[0m\u001b[1;33m(\u001b[0m\u001b[0mf\u001b[0m\u001b[1;33m[\u001b[0m\u001b[1;34m'Subject'\u001b[0m\u001b[1;33m]\u001b[0m\u001b[1;33m)\u001b[0m\u001b[1;33m\u001b[0m\u001b[1;33m\u001b[0m\u001b[0m\n\u001b[0m",
      "\u001b[1;31mTypeError\u001b[0m: string indices must be integers"
     ]
    }
   ],
   "source": [
    "f = open(\"ex_1_name.txt\", \"r\")\n",
    "f = f.read()\n",
    "print(f)\n",
    "print(f['Subject'])\n"
   ]
  },
  {
   "cell_type": "code",
   "execution_count": 22,
   "metadata": {},
   "outputs": [
    {
     "name": "stdout",
     "output_type": "stream",
     "text": [
      "x > y is False\n",
      "x < y is True\n",
      "x == y is False\n",
      "x != y is True\n",
      "x >= y is False\n",
      "x <=y is True\n"
     ]
    }
   ],
   "source": [
    "x= 1\n",
    "y = 2\n",
    "print('x > y is',x>y)\n",
    "\n",
    "print('x < y is',x<y)\n",
    "\n",
    "print('x == y is',x==y)\n",
    "\n",
    "print('x != y is',x!=y)\n",
    "\n",
    "print('x >= y is',x>=y)\n",
    "\n",
    "print('x <=y is', x<=y) "
   ]
  },
  {
   "cell_type": "code",
   "execution_count": 23,
   "metadata": {},
   "outputs": [
    {
     "name": "stdout",
     "output_type": "stream",
     "text": [
      "x and y is False\n",
      "x or y is True\n",
      "not x is False\n"
     ]
    }
   ],
   "source": [
    "x = True\n",
    "y = False\n",
    "\n",
    "print('x and y is',x and y)\n",
    "\n",
    "print('x or y is',x or y)\n",
    "\n",
    "print('not x is',not x)"
   ]
  },
  {
   "cell_type": "code",
   "execution_count": 24,
   "metadata": {},
   "outputs": [
    {
     "name": "stdout",
     "output_type": "stream",
     "text": [
      "False\n"
     ]
    }
   ],
   "source": [
    "x = True\n",
    "y = False\n",
    "\n",
    "#   x and y means: both x and y happen the same\n",
    "\n",
    "print(x and y)"
   ]
  },
  {
   "cell_type": "code",
   "execution_count": 25,
   "metadata": {},
   "outputs": [
    {
     "name": "stdout",
     "output_type": "stream",
     "text": [
      "True\n"
     ]
    }
   ],
   "source": [
    "x = True\n",
    "y = False\n",
    "\n",
    "print(x or y)"
   ]
  },
  {
   "cell_type": "code",
   "execution_count": 3,
   "metadata": {},
   "outputs": [],
   "source": [
    "x = -5\n",
    "if x>0:\n",
    "    print(\"a\")\n",
    "elif x>100: \n",
    "    print(\"so large\")"
   ]
  },
  {
   "cell_type": "code",
   "execution_count": 26,
   "metadata": {},
   "outputs": [
    {
     "name": "stdout",
     "output_type": "stream",
     "text": [
      "x < y is False\n"
     ]
    }
   ],
   "source": [
    "print('x < y is',x<y)"
   ]
  },
  {
   "cell_type": "code",
   "execution_count": 16,
   "metadata": {},
   "outputs": [
    {
     "name": "stdout",
     "output_type": "stream",
     "text": [
      "x is greater than 5\n"
     ]
    }
   ],
   "source": [
    "x = 10\n",
    "y = 2\n",
    "\n",
    "if x<=0:\n",
    "    print('x is negative')\n",
    "elif x<=5:\n",
    "    print('x is positive but less than 5')\n",
    "else:\n",
    "    print('x is greater than 5')"
   ]
  },
  {
   "cell_type": "code",
   "execution_count": 17,
   "metadata": {},
   "outputs": [
    {
     "name": "stdout",
     "output_type": "stream",
     "text": [
      "Enter a number for x: 1231\n",
      "Enter a number for y: 141234\n",
      "therefore, x / y is 0.008716031550476514\n",
      "thanks!\n"
     ]
    }
   ],
   "source": [
    "x = float(input(\"Enter a number for x: \")) \n",
    "y = float(input(\"Enter a number for y: \")) \n",
    "if x == y: \n",
    "    print(\"x and y are equal\") \n",
    "if y != 0: \n",
    "    print(\"therefore, x / y is\", x/y) \n",
    "elif x < y: \n",
    "    print(\"x is smaller\") \n",
    "else: \n",
    "    print(\"y is smaller\") \n",
    "print(\"thanks!\") "
   ]
  },
  {
   "cell_type": "code",
   "execution_count": 13,
   "metadata": {},
   "outputs": [
    {
     "name": "stdout",
     "output_type": "stream",
     "text": [
      "i =  1  less than 5\n",
      "i =  2  less than 5\n",
      "i =  3  less than 5\n"
     ]
    }
   ],
   "source": [
    "i = 1\n",
    "while i<=100:\n",
    "    print('i = ',i,' less than 5')\n",
    "    if i == 3:\n",
    "        break\n",
    "    i = i+1"
   ]
  },
  {
   "cell_type": "code",
   "execution_count": 21,
   "metadata": {},
   "outputs": [
    {
     "name": "stdout",
     "output_type": "stream",
     "text": [
      "0\n",
      "1\n",
      "skip\n",
      "6\n",
      "10\n",
      "15\n"
     ]
    }
   ],
   "source": [
    "i = 0\n",
    "s = 0\n",
    "while i < 6:\n",
    "    s = s + i\n",
    "    i += 1\n",
    "    if i == 3:\n",
    "        print('skip')\n",
    "        continue\n",
    "    print(s)"
   ]
  },
  {
   "cell_type": "code",
   "execution_count": 49,
   "metadata": {},
   "outputs": [
    {
     "name": "stdout",
     "output_type": "stream",
     "text": [
      "1 True\n",
      "4 True\n",
      "9 True\n",
      "16 True\n",
      "25 True\n",
      "36 False\n"
     ]
    }
   ],
   "source": [
    "x = 0\n",
    "test = True\n",
    "while test == True: \n",
    "    x = x+1\n",
    "    if x<6:\n",
    "        test = True\n",
    "    else: \n",
    "        test = False\n",
    "    print(x**2, test)\n",
    "    \n",
    "    "
   ]
  },
  {
   "cell_type": "code",
   "execution_count": 32,
   "metadata": {},
   "outputs": [
    {
     "name": "stdout",
     "output_type": "stream",
     "text": [
      "The sum of the first  0 numbers = 0\n",
      "The sum of the first  1 numbers = 1\n",
      "The sum of the first  2 numbers = 3\n",
      "The sum of the first  3 numbers = 6\n",
      "The sum of the first  4 numbers = 10\n",
      "The sum of the first  5 numbers = 15\n",
      "The sum of the first  6 numbers = 21\n",
      "The sum of the first  7 numbers = 28\n",
      "The sum of the first  8 numbers = 36\n",
      "The sum of the first  9 numbers = 45\n"
     ]
    }
   ],
   "source": [
    "S = 0\n",
    "for i in range(10): # i from 0 to 9\n",
    "    S = S+i\n",
    "    print('The sum of the first ',i, 'numbers =',S)"
   ]
  },
  {
   "cell_type": "code",
   "execution_count": 88,
   "metadata": {},
   "outputs": [
    {
     "name": "stdout",
     "output_type": "stream",
     "text": [
      "sum of all the odd numbers less than 10 is  25\n"
     ]
    }
   ],
   "source": [
    "S = 0\n",
    "for i in range(1,10,2): \n",
    "    S = S+i\n",
    "    #print(S)\n",
    "print('sum of all the odd numbers less than 10 is ', S)"
   ]
  },
  {
   "cell_type": "code",
   "execution_count": 38,
   "metadata": {},
   "outputs": [
    {
     "name": "stdout",
     "output_type": "stream",
     "text": [
      "0\n",
      "1\n",
      "3\n",
      "6\n",
      "10\n",
      "15\n",
      "sum of first 6 integers is  21\n"
     ]
    }
   ],
   "source": [
    "S = 0\n",
    "for i in range(11): \n",
    "    S = S + i\n",
    "    if i == 6:\n",
    "        break\n",
    "    print(S)\n",
    "    \n",
    "print('sum of first',i, 'integers is ',S)"
   ]
  },
  {
   "cell_type": "code",
   "execution_count": null,
   "metadata": {},
   "outputs": [],
   "source": []
  },
  {
   "cell_type": "code",
   "execution_count": 84,
   "metadata": {},
   "outputs": [
    {
     "name": "stdout",
     "output_type": "stream",
     "text": [
      "0\n",
      "1\n",
      "3\n",
      "6\n",
      "10\n",
      "15\n",
      "21\n"
     ]
    }
   ],
   "source": [
    "#S = 0\n",
    "def func_1(S):\n",
    "    for i in range(11): \n",
    "        S = S + i\n",
    "        if i == 6:\n",
    "            break\n",
    "        print(S)\n",
    "    return(S)\n",
    "    \n",
    "    \n",
    "\n",
    "#func_1(2)\n",
    "out = print(func_1(0))\n"
   ]
  },
  {
   "cell_type": "code",
   "execution_count": 28,
   "metadata": {},
   "outputs": [
    {
     "name": "stdout",
     "output_type": "stream",
     "text": [
      "num_guesses = 300\n",
      "2.99999999999998 is close to the cube root of 27\n"
     ]
    }
   ],
   "source": [
    "cube = 27 \n",
    "epsilon = 0.01 # can change smaller or larger\n",
    "guess = 0.0 \n",
    "increment = 0.01 # can change smaller or larger\n",
    "num_guesses = 0 \n",
    "while abs(guess**3 - cube) >= epsilon: \n",
    "    guess += increment \n",
    "    num_guesses += 1 \n",
    "print('num_guesses =', num_guesses) \n",
    "if abs(guess**3 - cube) >= epsilon: \n",
    "    print('Failed on cube root of', cube) \n",
    "else: \n",
    "    print(guess, 'is close to the cube root of', cube)"
   ]
  },
  {
   "cell_type": "code",
   "execution_count": 35,
   "metadata": {},
   "outputs": [
    {
     "data": {
      "text/plain": [
       "3.0"
      ]
     },
     "execution_count": 35,
     "metadata": {},
     "output_type": "execute_result"
    }
   ],
   "source": [
    "import numpy as np\n",
    "import statistics as st\n",
    "from statistics import mean\n",
    "from statistics import median\n",
    "from statistics import variance\n",
    "import math\n",
    "\n",
    "x = [20,3,4,5,8,12,1]\n",
    "y = [5,6,3,2,80,10,9]\n",
    "max(x)\n",
    "min(x)\n",
    "len(x)\n",
    "sum(x)\n",
    "mean(x)\n",
    "median(x)\n",
    "variance(x)\n",
    "sorted(x)\n",
    "np.corrcoef(x, y)\n",
    "\n",
    "math.sqrt(9)\n",
    "\n"
   ]
  },
  {
   "cell_type": "code",
   "execution_count": 36,
   "metadata": {},
   "outputs": [
    {
     "data": {
      "text/plain": [
       "2"
      ]
     },
     "execution_count": 36,
     "metadata": {},
     "output_type": "execute_result"
    }
   ],
   "source": [
    "t = (2,3,'abs',5)\n",
    "t[0]"
   ]
  },
  {
   "cell_type": "code",
   "execution_count": 38,
   "metadata": {},
   "outputs": [
    {
     "ename": "TypeError",
     "evalue": "'tuple' object does not support item assignment",
     "output_type": "error",
     "traceback": [
      "\u001b[0;31m---------------------------------------------------------------------------\u001b[0m",
      "\u001b[0;31mTypeError\u001b[0m                                 Traceback (most recent call last)",
      "\u001b[0;32m<ipython-input-38-722938644ac6>\u001b[0m in \u001b[0;36m<module>\u001b[0;34m\u001b[0m\n\u001b[1;32m      1\u001b[0m \u001b[0mt\u001b[0m \u001b[0;34m=\u001b[0m \u001b[0;34m(\u001b[0m\u001b[0;36m2\u001b[0m\u001b[0;34m,\u001b[0m\u001b[0;36m3\u001b[0m\u001b[0;34m,\u001b[0m\u001b[0;34m'abs'\u001b[0m\u001b[0;34m,\u001b[0m\u001b[0;36m5\u001b[0m\u001b[0;34m)\u001b[0m\u001b[0;34m\u001b[0m\u001b[0;34m\u001b[0m\u001b[0m\n\u001b[0;32m----> 2\u001b[0;31m \u001b[0mt\u001b[0m\u001b[0;34m[\u001b[0m\u001b[0;36m0\u001b[0m\u001b[0;34m]\u001b[0m \u001b[0;34m=\u001b[0m \u001b[0;36m1\u001b[0m \u001b[0;31m# change the first element to '1'\u001b[0m\u001b[0;34m\u001b[0m\u001b[0;34m\u001b[0m\u001b[0m\n\u001b[0m\u001b[1;32m      3\u001b[0m \u001b[0mprint\u001b[0m\u001b[0;34m(\u001b[0m\u001b[0mt\u001b[0m\u001b[0;34m)\u001b[0m\u001b[0;34m\u001b[0m\u001b[0;34m\u001b[0m\u001b[0m\n",
      "\u001b[0;31mTypeError\u001b[0m: 'tuple' object does not support item assignment"
     ]
    }
   ],
   "source": [
    "t = (2,3,'abs',5)\n",
    "t[0] = 1 # change the first element to '1'\n",
    "print(t)"
   ]
  },
  {
   "cell_type": "code",
   "execution_count": 39,
   "metadata": {},
   "outputs": [
    {
     "name": "stdout",
     "output_type": "stream",
     "text": [
      "[1, 3, 'abs', 5]\n"
     ]
    }
   ],
   "source": [
    "t = [2,3,'abs',5]\n",
    "t[0] = 1 # change the first element to '1'\n",
    "print(t)"
   ]
  },
  {
   "cell_type": "code",
   "execution_count": 40,
   "metadata": {},
   "outputs": [
    {
     "data": {
      "text/plain": [
       "53"
      ]
     },
     "execution_count": 40,
     "metadata": {},
     "output_type": "execute_result"
    }
   ],
   "source": [
    "def f_sum(x):\n",
    "    return(sum(x))\n",
    "x = [20,3,4,5,8,12,1]\n",
    "f_sum(x)"
   ]
  },
  {
   "cell_type": "code",
   "execution_count": 76,
   "metadata": {},
   "outputs": [
    {
     "name": "stdout",
     "output_type": "stream",
     "text": [
      "   Subject Gender  CA1  CA2 HW\n",
      "0       10      M   80   84  A\n",
      "1        7      M   85   89  A\n",
      "2        4      F   90   86  B\n",
      "3       20      M   82   85  B\n",
      "4       25      F   94   94  A\n",
      "5       14      F   88   84  C\n"
     ]
    },
    {
     "data": {
      "text/plain": [
       "27.1"
      ]
     },
     "execution_count": 76,
     "metadata": {},
     "output_type": "execute_result"
    }
   ],
   "source": [
    "\n",
    "type(x)\n",
    "\n",
    "variance(x)\n"
   ]
  },
  {
   "cell_type": "code",
   "execution_count": 3,
   "metadata": {},
   "outputs": [
    {
     "name": "stdout",
     "output_type": "stream",
     "text": [
      "2.1252450839060106\n"
     ]
    }
   ],
   "source": [
    "import math\n",
    "from statistics import variance\n",
    "import pandas as pd\n",
    "\n",
    "def f_se(x):\n",
    "    se = math.sqrt(variance(x)/len(x))\n",
    "    return(se)\n",
    "\n",
    "text = pd.read_csv(r\"C:\\Data\\ex_1_name.txt\", header = 0, sep = \" \")\n",
    "x = text['CA1']\n",
    "\n",
    "print(f_se(x))"
   ]
  },
  {
   "cell_type": "code",
   "execution_count": 7,
   "metadata": {},
   "outputs": [
    {
     "name": "stdout",
     "output_type": "stream",
     "text": [
      "   Subject Gender  CA1  CA2 HW\n",
      "0       10      M   80   84  A\n",
      "1        7      M   85   89  A\n",
      "2        4      F   90   86  B\n",
      "3       20      M   82   85  B\n",
      "4       25      F   94   94  A\n",
      "5       14      F   88   84  C\n",
      "0    80\n",
      "1    85\n",
      "2    90\n",
      "3    82\n",
      "4    94\n",
      "5    88\n",
      "Name: CA1, dtype: int64\n"
     ]
    }
   ],
   "source": [
    "text = pd.read_csv(r\"C:\\Data\\ex_1_name.txt\", header = 0, sep = \" \")\n",
    "print(text)\n",
    "x = text['CA1'] # the list that we want to save to a text file\n",
    "print(x)"
   ]
  },
  {
   "cell_type": "code",
   "execution_count": 123,
   "metadata": {},
   "outputs": [],
   "source": [
    "f = open('test.txt','w')\n",
    "for i in x:\n",
    "    f.write(str(i) + '\\n') \n",
    "f.close()\n"
   ]
  },
  {
   "cell_type": "code",
   "execution_count": 8,
   "metadata": {},
   "outputs": [
    {
     "name": "stdout",
     "output_type": "stream",
     "text": [
      "   Unnamed: 0  CA1\n",
      "0           0   80\n",
      "1           1   85\n",
      "2           2   90\n",
      "3           3   82\n",
      "4           4   94\n",
      "5           5   88\n"
     ]
    }
   ],
   "source": [
    "\n",
    "# #########   OR: write the list `x' to a csv file:    \n",
    "    \n",
    "x.to_csv('test.csv')\n",
    "\n",
    "#try to read the file `test' that we just save:\n",
    "t = pd.read_csv('test.csv')\n",
    "print(t)  #correct as we want\n"
   ]
  },
  {
   "cell_type": "code",
   "execution_count": 124,
   "metadata": {},
   "outputs": [
    {
     "name": "stdout",
     "output_type": "stream",
     "text": [
      "    0\n",
      "0  80\n",
      "1  85\n",
      "2  90\n",
      "3  82\n",
      "4  94\n",
      "5  88\n",
      "   first CA\n",
      "0        80\n",
      "1        85\n",
      "2        90\n",
      "3        82\n",
      "4        94\n",
      "5        88\n"
     ]
    }
   ],
   "source": [
    "y = pd.read_csv(\"test.txt\", header = None)\n",
    "print(y)\n",
    "y.columns = ['first CA'] #name the column\n",
    "print(y)"
   ]
  },
  {
   "cell_type": "code",
   "execution_count": 4,
   "metadata": {},
   "outputs": [
    {
     "name": "stdout",
     "output_type": "stream",
     "text": [
      "   Subject Gender  CA1  CA2 HW\n",
      "0       10      M   80   84  A\n",
      "1        7      M   85   89  A\n",
      "2        4      F   90   86  B\n",
      "3       20      M   82   85  B\n",
      "4       25      F   94   94  A\n",
      "5       14      F   88   84  C\n"
     ]
    }
   ],
   "source": [
    "text = pd.read_csv(r\"C:\\Data\\ex_1_name.txt\", header = 0, sep = \" \")\n",
    "text = pd.DataFrame(text)\n",
    "print(text)"
   ]
  },
  {
   "cell_type": "code",
   "execution_count": 6,
   "metadata": {},
   "outputs": [
    {
     "name": "stdout",
     "output_type": "stream",
     "text": [
      "   Unnamed: 0  Subject Gender  CA1  CA2 HW\n",
      "0           0       10      M   80   84  A\n",
      "1           1        7      M   85   89  A\n",
      "2           2        4      F   90   86  B\n",
      "3           3       20      M   82   85  B\n",
      "4           4       25      F   94   94  A\n",
      "5           5       14      F   88   84  C\n"
     ]
    }
   ],
   "source": [
    "#  Write the file 'text' to a csv file called 'test2'\n",
    "text.to_csv(\"C:/Data/test2.csv\")\n",
    "\n",
    "# check if the the data was saved correctly:\n",
    "test = pd.read_csv(\"C:/Data/test2.csv\")\n",
    "\n",
    "print(test)  #correct\n",
    "\n"
   ]
  },
  {
   "cell_type": "code",
   "execution_count": null,
   "metadata": {},
   "outputs": [],
   "source": []
  },
  {
   "cell_type": "code",
   "execution_count": null,
   "metadata": {},
   "outputs": [],
   "source": []
  },
  {
   "cell_type": "code",
   "execution_count": null,
   "metadata": {},
   "outputs": [],
   "source": []
  }
 ],
 "metadata": {
  "kernelspec": {
   "display_name": "Python 3",
   "language": "python",
   "name": "python3"
  },
  "language_info": {
   "codemirror_mode": {
    "name": "ipython",
    "version": 3
   },
   "file_extension": ".py",
   "mimetype": "text/x-python",
   "name": "python",
   "nbconvert_exporter": "python",
   "pygments_lexer": "ipython3",
   "version": "3.8.8"
  }
 },
 "nbformat": 4,
 "nbformat_minor": 4
}
